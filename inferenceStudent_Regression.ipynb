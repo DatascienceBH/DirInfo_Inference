{
 "cells": [
  {
   "cell_type": "code",
   "execution_count": null,
   "metadata": {},
   "outputs": [],
   "source": [
    "!pip install --user xgboost"
   ]
  },
  {
   "cell_type": "code",
   "execution_count": 1,
   "metadata": {},
   "outputs": [
    {
     "name": "stdout",
     "output_type": "stream",
     "text": [
      "/Users/medamin/_Projets/_DataScience/DirectOfInformaiton_Project\r\n"
     ]
    }
   ],
   "source": [
    "!pwd"
   ]
  },
  {
   "cell_type": "code",
   "execution_count": 28,
   "metadata": {},
   "outputs": [],
   "source": [
    "import pandas as pd\n",
    "import numpy as np\n",
    "from sklearn.preprocessing import LabelEncoder\n",
    "from sklearn.compose import make_column_selector\n",
    "df_infer=pd.read_csv(\"data/GD_Part2_clean.csv\")"
   ]
  },
  {
   "cell_type": "code",
   "execution_count": 29,
   "metadata": {},
   "outputs": [],
   "source": [
    "from sklearn.preprocessing import StandardScaler, OneHotEncoder, LabelEncoder\n",
    "from sklearn.compose import make_column_transformer, ColumnTransformer, TransformedTargetRegressor\n",
    "from sklearn.pipeline import make_pipeline\n",
    "from sklearn.linear_model import SGDClassifier\n",
    "from sklearn.model_selection import GridSearchCV, RandomizedSearchCV\n",
    "from sklearn.feature_extraction.text import CountVectorizer\n",
    "from xgboost import XGBClassifier, XGBRegressor"
   ]
  },
  {
   "cell_type": "code",
   "execution_count": 30,
   "metadata": {},
   "outputs": [
    {
     "data": {
      "text/html": [
       "<div>\n",
       "<style scoped>\n",
       "    .dataframe tbody tr th:only-of-type {\n",
       "        vertical-align: middle;\n",
       "    }\n",
       "\n",
       "    .dataframe tbody tr th {\n",
       "        vertical-align: top;\n",
       "    }\n",
       "\n",
       "    .dataframe thead th {\n",
       "        text-align: right;\n",
       "    }\n",
       "</style>\n",
       "<table border=\"1\" class=\"dataframe\">\n",
       "  <thead>\n",
       "    <tr style=\"text-align: right;\">\n",
       "      <th></th>\n",
       "      <th>Unnamed: 0</th>\n",
       "      <th>CPR_NO</th>\n",
       "      <th>SCH_NM</th>\n",
       "      <th>PROV_NM</th>\n",
       "      <th>SUBM</th>\n",
       "      <th>Teacher_Gender</th>\n",
       "      <th>ACHIEVEMENTS1</th>\n",
       "      <th>ACHIEVEMENTS2</th>\n",
       "      <th>MIDTERM1</th>\n",
       "      <th>MIDTERM2</th>\n",
       "      <th>FINAL1</th>\n",
       "      <th>FINAL2</th>\n",
       "      <th>TOTAL1</th>\n",
       "      <th>TOTAL2</th>\n",
       "      <th>D_MARK</th>\n",
       "      <th>NAT_MARK</th>\n",
       "      <th>GPA</th>\n",
       "    </tr>\n",
       "  </thead>\n",
       "  <tbody>\n",
       "    <tr>\n",
       "      <th>0</th>\n",
       "      <td>0</td>\n",
       "      <td>70913390</td>\n",
       "      <td>المعهد الديني الجعفري</td>\n",
       "      <td>Cap</td>\n",
       "      <td>Science</td>\n",
       "      <td>M</td>\n",
       "      <td>28.0</td>\n",
       "      <td>30.0</td>\n",
       "      <td>17.0</td>\n",
       "      <td>17.0</td>\n",
       "      <td>45.0</td>\n",
       "      <td>33.0</td>\n",
       "      <td>90.0</td>\n",
       "      <td>80</td>\n",
       "      <td>85</td>\n",
       "      <td>53.7</td>\n",
       "      <td>92.9</td>\n",
       "    </tr>\n",
       "    <tr>\n",
       "      <th>1</th>\n",
       "      <td>1</td>\n",
       "      <td>71105956</td>\n",
       "      <td>المعهد الديني الجعفري</td>\n",
       "      <td>Cap</td>\n",
       "      <td>Science</td>\n",
       "      <td>M</td>\n",
       "      <td>27.0</td>\n",
       "      <td>29.0</td>\n",
       "      <td>14.0</td>\n",
       "      <td>16.0</td>\n",
       "      <td>41.5</td>\n",
       "      <td>37.0</td>\n",
       "      <td>83.0</td>\n",
       "      <td>82</td>\n",
       "      <td>83</td>\n",
       "      <td>49.7</td>\n",
       "      <td>89.5</td>\n",
       "    </tr>\n",
       "    <tr>\n",
       "      <th>2</th>\n",
       "      <td>2</td>\n",
       "      <td>70712190</td>\n",
       "      <td>المعهد الديني الجعفري</td>\n",
       "      <td>Cap</td>\n",
       "      <td>Science</td>\n",
       "      <td>M</td>\n",
       "      <td>27.0</td>\n",
       "      <td>27.0</td>\n",
       "      <td>13.0</td>\n",
       "      <td>15.0</td>\n",
       "      <td>27.5</td>\n",
       "      <td>37.0</td>\n",
       "      <td>68.0</td>\n",
       "      <td>79</td>\n",
       "      <td>74</td>\n",
       "      <td>52.1</td>\n",
       "      <td>86.2</td>\n",
       "    </tr>\n",
       "    <tr>\n",
       "      <th>3</th>\n",
       "      <td>3</td>\n",
       "      <td>70207496</td>\n",
       "      <td>المعهد الديني الجعفري</td>\n",
       "      <td>Cap</td>\n",
       "      <td>Science</td>\n",
       "      <td>M</td>\n",
       "      <td>26.0</td>\n",
       "      <td>24.5</td>\n",
       "      <td>15.0</td>\n",
       "      <td>12.0</td>\n",
       "      <td>44.0</td>\n",
       "      <td>32.5</td>\n",
       "      <td>85.0</td>\n",
       "      <td>69</td>\n",
       "      <td>77</td>\n",
       "      <td>52.9</td>\n",
       "      <td>89.9</td>\n",
       "    </tr>\n",
       "    <tr>\n",
       "      <th>4</th>\n",
       "      <td>4</td>\n",
       "      <td>70507953</td>\n",
       "      <td>المعهد الديني الجعفري</td>\n",
       "      <td>Cap</td>\n",
       "      <td>Science</td>\n",
       "      <td>M</td>\n",
       "      <td>25.0</td>\n",
       "      <td>28.0</td>\n",
       "      <td>14.0</td>\n",
       "      <td>15.0</td>\n",
       "      <td>31.5</td>\n",
       "      <td>37.0</td>\n",
       "      <td>71.0</td>\n",
       "      <td>80</td>\n",
       "      <td>76</td>\n",
       "      <td>52.1</td>\n",
       "      <td>86.2</td>\n",
       "    </tr>\n",
       "  </tbody>\n",
       "</table>\n",
       "</div>"
      ],
      "text/plain": [
       "   Unnamed: 0    CPR_NO                 SCH_NM PROV_NM     SUBM  \\\n",
       "0           0  70913390  المعهد الديني الجعفري     Cap  Science   \n",
       "1           1  71105956  المعهد الديني الجعفري     Cap  Science   \n",
       "2           2  70712190  المعهد الديني الجعفري     Cap  Science   \n",
       "3           3  70207496  المعهد الديني الجعفري     Cap  Science   \n",
       "4           4  70507953  المعهد الديني الجعفري     Cap  Science   \n",
       "\n",
       "  Teacher_Gender  ACHIEVEMENTS1  ACHIEVEMENTS2  MIDTERM1  MIDTERM2  FINAL1  \\\n",
       "0              M           28.0           30.0      17.0      17.0    45.0   \n",
       "1              M           27.0           29.0      14.0      16.0    41.5   \n",
       "2              M           27.0           27.0      13.0      15.0    27.5   \n",
       "3              M           26.0           24.5      15.0      12.0    44.0   \n",
       "4              M           25.0           28.0      14.0      15.0    31.5   \n",
       "\n",
       "   FINAL2  TOTAL1  TOTAL2  D_MARK  NAT_MARK   GPA  \n",
       "0    33.0    90.0      80      85      53.7  92.9  \n",
       "1    37.0    83.0      82      83      49.7  89.5  \n",
       "2    37.0    68.0      79      74      52.1  86.2  \n",
       "3    32.5    85.0      69      77      52.9  89.9  \n",
       "4    37.0    71.0      80      76      52.1  86.2  "
      ]
     },
     "execution_count": 30,
     "metadata": {},
     "output_type": "execute_result"
    }
   ],
   "source": [
    "df_infer.head()"
   ]
  },
  {
   "cell_type": "code",
   "execution_count": 31,
   "metadata": {},
   "outputs": [],
   "source": [
    "df_infer.set_index('CPR_NO', inplace=True)\n",
    "# df_infer.index=df.CPR_NO\n",
    "# df_infer.drop([\"Unnamed: 0\" ], axis=1, inplace=True)"
   ]
  },
  {
   "cell_type": "code",
   "execution_count": 32,
   "metadata": {},
   "outputs": [
    {
     "data": {
      "text/plain": [
       "99"
      ]
     },
     "execution_count": 32,
     "metadata": {},
     "output_type": "execute_result"
    }
   ],
   "source": [
    "df_infer.SCH_NM.nunique()"
   ]
  },
  {
   "cell_type": "code",
   "execution_count": 33,
   "metadata": {},
   "outputs": [
    {
     "data": {
      "text/html": [
       "<div>\n",
       "<style scoped>\n",
       "    .dataframe tbody tr th:only-of-type {\n",
       "        vertical-align: middle;\n",
       "    }\n",
       "\n",
       "    .dataframe tbody tr th {\n",
       "        vertical-align: top;\n",
       "    }\n",
       "\n",
       "    .dataframe thead th {\n",
       "        text-align: right;\n",
       "    }\n",
       "</style>\n",
       "<table border=\"1\" class=\"dataframe\">\n",
       "  <thead>\n",
       "    <tr style=\"text-align: right;\">\n",
       "      <th></th>\n",
       "      <th>Unnamed: 0</th>\n",
       "      <th>SCH_NM</th>\n",
       "      <th>PROV_NM</th>\n",
       "      <th>SUBM</th>\n",
       "      <th>Teacher_Gender</th>\n",
       "      <th>ACHIEVEMENTS1</th>\n",
       "      <th>ACHIEVEMENTS2</th>\n",
       "      <th>MIDTERM1</th>\n",
       "      <th>MIDTERM2</th>\n",
       "      <th>FINAL1</th>\n",
       "      <th>FINAL2</th>\n",
       "      <th>TOTAL1</th>\n",
       "      <th>TOTAL2</th>\n",
       "      <th>D_MARK</th>\n",
       "      <th>NAT_MARK</th>\n",
       "      <th>GPA</th>\n",
       "    </tr>\n",
       "    <tr>\n",
       "      <th>CPR_NO</th>\n",
       "      <th></th>\n",
       "      <th></th>\n",
       "      <th></th>\n",
       "      <th></th>\n",
       "      <th></th>\n",
       "      <th></th>\n",
       "      <th></th>\n",
       "      <th></th>\n",
       "      <th></th>\n",
       "      <th></th>\n",
       "      <th></th>\n",
       "      <th></th>\n",
       "      <th></th>\n",
       "      <th></th>\n",
       "      <th></th>\n",
       "      <th></th>\n",
       "    </tr>\n",
       "  </thead>\n",
       "  <tbody>\n",
       "    <tr>\n",
       "      <th>70913390</th>\n",
       "      <td>0</td>\n",
       "      <td>المعهد الديني الجعفري</td>\n",
       "      <td>Cap</td>\n",
       "      <td>Science</td>\n",
       "      <td>M</td>\n",
       "      <td>28.0</td>\n",
       "      <td>30.0</td>\n",
       "      <td>17.0</td>\n",
       "      <td>17.0</td>\n",
       "      <td>45.0</td>\n",
       "      <td>33.0</td>\n",
       "      <td>90.0</td>\n",
       "      <td>80</td>\n",
       "      <td>85</td>\n",
       "      <td>53.7</td>\n",
       "      <td>92.9</td>\n",
       "    </tr>\n",
       "    <tr>\n",
       "      <th>71105956</th>\n",
       "      <td>1</td>\n",
       "      <td>المعهد الديني الجعفري</td>\n",
       "      <td>Cap</td>\n",
       "      <td>Science</td>\n",
       "      <td>M</td>\n",
       "      <td>27.0</td>\n",
       "      <td>29.0</td>\n",
       "      <td>14.0</td>\n",
       "      <td>16.0</td>\n",
       "      <td>41.5</td>\n",
       "      <td>37.0</td>\n",
       "      <td>83.0</td>\n",
       "      <td>82</td>\n",
       "      <td>83</td>\n",
       "      <td>49.7</td>\n",
       "      <td>89.5</td>\n",
       "    </tr>\n",
       "    <tr>\n",
       "      <th>70712190</th>\n",
       "      <td>2</td>\n",
       "      <td>المعهد الديني الجعفري</td>\n",
       "      <td>Cap</td>\n",
       "      <td>Science</td>\n",
       "      <td>M</td>\n",
       "      <td>27.0</td>\n",
       "      <td>27.0</td>\n",
       "      <td>13.0</td>\n",
       "      <td>15.0</td>\n",
       "      <td>27.5</td>\n",
       "      <td>37.0</td>\n",
       "      <td>68.0</td>\n",
       "      <td>79</td>\n",
       "      <td>74</td>\n",
       "      <td>52.1</td>\n",
       "      <td>86.2</td>\n",
       "    </tr>\n",
       "    <tr>\n",
       "      <th>70207496</th>\n",
       "      <td>3</td>\n",
       "      <td>المعهد الديني الجعفري</td>\n",
       "      <td>Cap</td>\n",
       "      <td>Science</td>\n",
       "      <td>M</td>\n",
       "      <td>26.0</td>\n",
       "      <td>24.5</td>\n",
       "      <td>15.0</td>\n",
       "      <td>12.0</td>\n",
       "      <td>44.0</td>\n",
       "      <td>32.5</td>\n",
       "      <td>85.0</td>\n",
       "      <td>69</td>\n",
       "      <td>77</td>\n",
       "      <td>52.9</td>\n",
       "      <td>89.9</td>\n",
       "    </tr>\n",
       "    <tr>\n",
       "      <th>70507953</th>\n",
       "      <td>4</td>\n",
       "      <td>المعهد الديني الجعفري</td>\n",
       "      <td>Cap</td>\n",
       "      <td>Science</td>\n",
       "      <td>M</td>\n",
       "      <td>25.0</td>\n",
       "      <td>28.0</td>\n",
       "      <td>14.0</td>\n",
       "      <td>15.0</td>\n",
       "      <td>31.5</td>\n",
       "      <td>37.0</td>\n",
       "      <td>71.0</td>\n",
       "      <td>80</td>\n",
       "      <td>76</td>\n",
       "      <td>52.1</td>\n",
       "      <td>86.2</td>\n",
       "    </tr>\n",
       "  </tbody>\n",
       "</table>\n",
       "</div>"
      ],
      "text/plain": [
       "          Unnamed: 0                 SCH_NM PROV_NM     SUBM Teacher_Gender  \\\n",
       "CPR_NO                                                                        \n",
       "70913390           0  المعهد الديني الجعفري     Cap  Science              M   \n",
       "71105956           1  المعهد الديني الجعفري     Cap  Science              M   \n",
       "70712190           2  المعهد الديني الجعفري     Cap  Science              M   \n",
       "70207496           3  المعهد الديني الجعفري     Cap  Science              M   \n",
       "70507953           4  المعهد الديني الجعفري     Cap  Science              M   \n",
       "\n",
       "          ACHIEVEMENTS1  ACHIEVEMENTS2  MIDTERM1  MIDTERM2  FINAL1  FINAL2  \\\n",
       "CPR_NO                                                                       \n",
       "70913390           28.0           30.0      17.0      17.0    45.0    33.0   \n",
       "71105956           27.0           29.0      14.0      16.0    41.5    37.0   \n",
       "70712190           27.0           27.0      13.0      15.0    27.5    37.0   \n",
       "70207496           26.0           24.5      15.0      12.0    44.0    32.5   \n",
       "70507953           25.0           28.0      14.0      15.0    31.5    37.0   \n",
       "\n",
       "          TOTAL1  TOTAL2  D_MARK  NAT_MARK   GPA  \n",
       "CPR_NO                                            \n",
       "70913390    90.0      80      85      53.7  92.9  \n",
       "71105956    83.0      82      83      49.7  89.5  \n",
       "70712190    68.0      79      74      52.1  86.2  \n",
       "70207496    85.0      69      77      52.9  89.9  \n",
       "70507953    71.0      80      76      52.1  86.2  "
      ]
     },
     "execution_count": 33,
     "metadata": {},
     "output_type": "execute_result"
    }
   ],
   "source": [
    "df_infer.head()"
   ]
  },
  {
   "cell_type": "code",
   "execution_count": 34,
   "metadata": {},
   "outputs": [],
   "source": [
    "df_infer.drop(['TOTAL1','ACHIEVEMENTS2','MIDTERM2', 'FINAL2', 'TOTAL2', 'D_MARK', 'Unnamed: 0', \"GPA\"], axis=1, inplace=True)\n",
    "# y=df_infer['NAT_class']"
   ]
  },
  {
   "cell_type": "code",
   "execution_count": 35,
   "metadata": {},
   "outputs": [
    {
     "data": {
      "text/plain": [
       "Index(['SCH_NM', 'PROV_NM', 'SUBM', 'Teacher_Gender', 'ACHIEVEMENTS1',\n",
       "       'MIDTERM1', 'FINAL1', 'NAT_MARK'],\n",
       "      dtype='object')"
      ]
     },
     "execution_count": 35,
     "metadata": {},
     "output_type": "execute_result"
    }
   ],
   "source": [
    "df_infer.keys()"
   ]
  },
  {
   "cell_type": "code",
   "execution_count": 36,
   "metadata": {},
   "outputs": [
    {
     "data": {
      "text/html": [
       "<div>\n",
       "<style scoped>\n",
       "    .dataframe tbody tr th:only-of-type {\n",
       "        vertical-align: middle;\n",
       "    }\n",
       "\n",
       "    .dataframe tbody tr th {\n",
       "        vertical-align: top;\n",
       "    }\n",
       "\n",
       "    .dataframe thead th {\n",
       "        text-align: right;\n",
       "    }\n",
       "</style>\n",
       "<table border=\"1\" class=\"dataframe\">\n",
       "  <thead>\n",
       "    <tr style=\"text-align: right;\">\n",
       "      <th></th>\n",
       "      <th>SCH_NM</th>\n",
       "      <th>PROV_NM</th>\n",
       "      <th>SUBM</th>\n",
       "      <th>Teacher_Gender</th>\n",
       "      <th>ACHIEVEMENTS1</th>\n",
       "      <th>MIDTERM1</th>\n",
       "      <th>FINAL1</th>\n",
       "      <th>NAT_MARK</th>\n",
       "    </tr>\n",
       "    <tr>\n",
       "      <th>CPR_NO</th>\n",
       "      <th></th>\n",
       "      <th></th>\n",
       "      <th></th>\n",
       "      <th></th>\n",
       "      <th></th>\n",
       "      <th></th>\n",
       "      <th></th>\n",
       "      <th></th>\n",
       "    </tr>\n",
       "  </thead>\n",
       "  <tbody>\n",
       "    <tr>\n",
       "      <th>70711321</th>\n",
       "      <td>مدرسة أحمد الفاتح الابتدائية الاعدادية للبنين</td>\n",
       "      <td>South</td>\n",
       "      <td>Science</td>\n",
       "      <td>M</td>\n",
       "      <td>NaN</td>\n",
       "      <td>NaN</td>\n",
       "      <td>NaN</td>\n",
       "      <td>45.2</td>\n",
       "    </tr>\n",
       "    <tr>\n",
       "      <th>60820420</th>\n",
       "      <td>مدرسة الرفاع الشرقي الابتدائية للبنات</td>\n",
       "      <td>South</td>\n",
       "      <td>Science</td>\n",
       "      <td>F</td>\n",
       "      <td>NaN</td>\n",
       "      <td>NaN</td>\n",
       "      <td>NaN</td>\n",
       "      <td>41.1</td>\n",
       "    </tr>\n",
       "    <tr>\n",
       "      <th>70613516</th>\n",
       "      <td>مدرسة الرفاع الشرقي الابتدائية للبنات</td>\n",
       "      <td>South</td>\n",
       "      <td>Science</td>\n",
       "      <td>F</td>\n",
       "      <td>NaN</td>\n",
       "      <td>NaN</td>\n",
       "      <td>NaN</td>\n",
       "      <td>37.7</td>\n",
       "    </tr>\n",
       "    <tr>\n",
       "      <th>60820438</th>\n",
       "      <td>مدرسة الرفاع الشرقي الابتدائية للبنات</td>\n",
       "      <td>South</td>\n",
       "      <td>Science</td>\n",
       "      <td>F</td>\n",
       "      <td>NaN</td>\n",
       "      <td>NaN</td>\n",
       "      <td>NaN</td>\n",
       "      <td>59.8</td>\n",
       "    </tr>\n",
       "    <tr>\n",
       "      <th>70800898</th>\n",
       "      <td>مدرسة الفارابي الإعدادية للبنين</td>\n",
       "      <td>North</td>\n",
       "      <td>Science</td>\n",
       "      <td>M</td>\n",
       "      <td>NaN</td>\n",
       "      <td>NaN</td>\n",
       "      <td>82.0</td>\n",
       "      <td>36.5</td>\n",
       "    </tr>\n",
       "    <tr>\n",
       "      <th>70116075</th>\n",
       "      <td>مدرسة المستقبل الابتدائية للبنات</td>\n",
       "      <td>South</td>\n",
       "      <td>Science</td>\n",
       "      <td>F</td>\n",
       "      <td>NaN</td>\n",
       "      <td>NaN</td>\n",
       "      <td>NaN</td>\n",
       "      <td>44.2</td>\n",
       "    </tr>\n",
       "    <tr>\n",
       "      <th>71001093</th>\n",
       "      <td>مدرسة رقية الابتدائية للبنات</td>\n",
       "      <td>Muharaq</td>\n",
       "      <td>Science</td>\n",
       "      <td>F</td>\n",
       "      <td>NaN</td>\n",
       "      <td>NaN</td>\n",
       "      <td>NaN</td>\n",
       "      <td>63.4</td>\n",
       "    </tr>\n",
       "    <tr>\n",
       "      <th>70922870</th>\n",
       "      <td>مدرسة سمية الابتدائية للبنات</td>\n",
       "      <td>Cap</td>\n",
       "      <td>Science</td>\n",
       "      <td>F</td>\n",
       "      <td>NaN</td>\n",
       "      <td>NaN</td>\n",
       "      <td>NaN</td>\n",
       "      <td>46.1</td>\n",
       "    </tr>\n",
       "    <tr>\n",
       "      <th>70405786</th>\n",
       "      <td>مدرسة عراد الابتدائية الإعدادية للبنين</td>\n",
       "      <td>Muharaq</td>\n",
       "      <td>Science</td>\n",
       "      <td>M</td>\n",
       "      <td>NaN</td>\n",
       "      <td>NaN</td>\n",
       "      <td>NaN</td>\n",
       "      <td>0.0</td>\n",
       "    </tr>\n",
       "    <tr>\n",
       "      <th>70711321</th>\n",
       "      <td>مدرسة أحمد الفاتح الابتدائية الاعدادية للبنين</td>\n",
       "      <td>South</td>\n",
       "      <td>Math</td>\n",
       "      <td>M</td>\n",
       "      <td>NaN</td>\n",
       "      <td>NaN</td>\n",
       "      <td>NaN</td>\n",
       "      <td>46.9</td>\n",
       "    </tr>\n",
       "    <tr>\n",
       "      <th>60820420</th>\n",
       "      <td>مدرسة الرفاع الشرقي الابتدائية للبنات</td>\n",
       "      <td>South</td>\n",
       "      <td>Math</td>\n",
       "      <td>F</td>\n",
       "      <td>NaN</td>\n",
       "      <td>NaN</td>\n",
       "      <td>NaN</td>\n",
       "      <td>39.0</td>\n",
       "    </tr>\n",
       "    <tr>\n",
       "      <th>70613516</th>\n",
       "      <td>مدرسة الرفاع الشرقي الابتدائية للبنات</td>\n",
       "      <td>South</td>\n",
       "      <td>Math</td>\n",
       "      <td>F</td>\n",
       "      <td>NaN</td>\n",
       "      <td>NaN</td>\n",
       "      <td>NaN</td>\n",
       "      <td>36.8</td>\n",
       "    </tr>\n",
       "    <tr>\n",
       "      <th>60820438</th>\n",
       "      <td>مدرسة الرفاع الشرقي الابتدائية للبنات</td>\n",
       "      <td>South</td>\n",
       "      <td>Math</td>\n",
       "      <td>F</td>\n",
       "      <td>NaN</td>\n",
       "      <td>NaN</td>\n",
       "      <td>NaN</td>\n",
       "      <td>60.4</td>\n",
       "    </tr>\n",
       "    <tr>\n",
       "      <th>70800898</th>\n",
       "      <td>مدرسة الفارابي الإعدادية للبنين</td>\n",
       "      <td>North</td>\n",
       "      <td>Math</td>\n",
       "      <td>M</td>\n",
       "      <td>NaN</td>\n",
       "      <td>NaN</td>\n",
       "      <td>64.0</td>\n",
       "      <td>28.8</td>\n",
       "    </tr>\n",
       "    <tr>\n",
       "      <th>70116075</th>\n",
       "      <td>مدرسة المستقبل الابتدائية للبنات</td>\n",
       "      <td>South</td>\n",
       "      <td>Math</td>\n",
       "      <td>F</td>\n",
       "      <td>NaN</td>\n",
       "      <td>NaN</td>\n",
       "      <td>NaN</td>\n",
       "      <td>46.3</td>\n",
       "    </tr>\n",
       "    <tr>\n",
       "      <th>71001093</th>\n",
       "      <td>مدرسة رقية الابتدائية للبنات</td>\n",
       "      <td>Muharaq</td>\n",
       "      <td>Math</td>\n",
       "      <td>F</td>\n",
       "      <td>NaN</td>\n",
       "      <td>NaN</td>\n",
       "      <td>NaN</td>\n",
       "      <td>59.3</td>\n",
       "    </tr>\n",
       "    <tr>\n",
       "      <th>70922870</th>\n",
       "      <td>مدرسة سمية الابتدائية للبنات</td>\n",
       "      <td>Cap</td>\n",
       "      <td>Math</td>\n",
       "      <td>F</td>\n",
       "      <td>NaN</td>\n",
       "      <td>NaN</td>\n",
       "      <td>NaN</td>\n",
       "      <td>41.6</td>\n",
       "    </tr>\n",
       "    <tr>\n",
       "      <th>70405786</th>\n",
       "      <td>مدرسة عراد الابتدائية الإعدادية للبنين</td>\n",
       "      <td>Muharaq</td>\n",
       "      <td>Math</td>\n",
       "      <td>M</td>\n",
       "      <td>NaN</td>\n",
       "      <td>NaN</td>\n",
       "      <td>NaN</td>\n",
       "      <td>0.0</td>\n",
       "    </tr>\n",
       "  </tbody>\n",
       "</table>\n",
       "</div>"
      ],
      "text/plain": [
       "                                                 SCH_NM  PROV_NM     SUBM  \\\n",
       "CPR_NO                                                                      \n",
       "70711321  مدرسة أحمد الفاتح الابتدائية الاعدادية للبنين    South  Science   \n",
       "60820420          مدرسة الرفاع الشرقي الابتدائية للبنات    South  Science   \n",
       "70613516          مدرسة الرفاع الشرقي الابتدائية للبنات    South  Science   \n",
       "60820438          مدرسة الرفاع الشرقي الابتدائية للبنات    South  Science   \n",
       "70800898                مدرسة الفارابي الإعدادية للبنين    North  Science   \n",
       "70116075               مدرسة المستقبل الابتدائية للبنات    South  Science   \n",
       "71001093                   مدرسة رقية الابتدائية للبنات  Muharaq  Science   \n",
       "70922870                   مدرسة سمية الابتدائية للبنات      Cap  Science   \n",
       "70405786         مدرسة عراد الابتدائية الإعدادية للبنين  Muharaq  Science   \n",
       "70711321  مدرسة أحمد الفاتح الابتدائية الاعدادية للبنين    South     Math   \n",
       "60820420          مدرسة الرفاع الشرقي الابتدائية للبنات    South     Math   \n",
       "70613516          مدرسة الرفاع الشرقي الابتدائية للبنات    South     Math   \n",
       "60820438          مدرسة الرفاع الشرقي الابتدائية للبنات    South     Math   \n",
       "70800898                مدرسة الفارابي الإعدادية للبنين    North     Math   \n",
       "70116075               مدرسة المستقبل الابتدائية للبنات    South     Math   \n",
       "71001093                   مدرسة رقية الابتدائية للبنات  Muharaq     Math   \n",
       "70922870                   مدرسة سمية الابتدائية للبنات      Cap     Math   \n",
       "70405786         مدرسة عراد الابتدائية الإعدادية للبنين  Muharaq     Math   \n",
       "\n",
       "         Teacher_Gender  ACHIEVEMENTS1  MIDTERM1  FINAL1  NAT_MARK  \n",
       "CPR_NO                                                              \n",
       "70711321              M            NaN       NaN     NaN      45.2  \n",
       "60820420              F            NaN       NaN     NaN      41.1  \n",
       "70613516              F            NaN       NaN     NaN      37.7  \n",
       "60820438              F            NaN       NaN     NaN      59.8  \n",
       "70800898              M            NaN       NaN    82.0      36.5  \n",
       "70116075              F            NaN       NaN     NaN      44.2  \n",
       "71001093              F            NaN       NaN     NaN      63.4  \n",
       "70922870              F            NaN       NaN     NaN      46.1  \n",
       "70405786              M            NaN       NaN     NaN       0.0  \n",
       "70711321              M            NaN       NaN     NaN      46.9  \n",
       "60820420              F            NaN       NaN     NaN      39.0  \n",
       "70613516              F            NaN       NaN     NaN      36.8  \n",
       "60820438              F            NaN       NaN     NaN      60.4  \n",
       "70800898              M            NaN       NaN    64.0      28.8  \n",
       "70116075              F            NaN       NaN     NaN      46.3  \n",
       "71001093              F            NaN       NaN     NaN      59.3  \n",
       "70922870              F            NaN       NaN     NaN      41.6  \n",
       "70405786              M            NaN       NaN     NaN       0.0  "
      ]
     },
     "execution_count": 36,
     "metadata": {},
     "output_type": "execute_result"
    }
   ],
   "source": [
    "df_infer[df_infer.isna().any(axis=1)]"
   ]
  },
  {
   "cell_type": "code",
   "execution_count": null,
   "metadata": {},
   "outputs": [],
   "source": []
  },
  {
   "cell_type": "code",
   "execution_count": 37,
   "metadata": {},
   "outputs": [],
   "source": [
    "df_infer.dropna(inplace=True)"
   ]
  },
  {
   "cell_type": "code",
   "execution_count": 38,
   "metadata": {},
   "outputs": [],
   "source": [
    "\n",
    "label_encoder = LabelEncoder()\n",
    "\n",
    "for i in ['SCH_NM', \"PROV_NM\"]:\n",
    "\n",
    "    df_infer[i] = label_encoder.fit_transform(df_infer[i])"
   ]
  },
  {
   "cell_type": "code",
   "execution_count": 39,
   "metadata": {},
   "outputs": [],
   "source": [
    "df_infer.Teacher_Gender=((df_infer.Teacher_Gender==\"M\")+0)\n",
    "df_infer.SUBM=((df_infer.SUBM==\"Math\")+0)"
   ]
  },
  {
   "cell_type": "code",
   "execution_count": 42,
   "metadata": {},
   "outputs": [
    {
     "data": {
      "text/html": [
       "<div>\n",
       "<style scoped>\n",
       "    .dataframe tbody tr th:only-of-type {\n",
       "        vertical-align: middle;\n",
       "    }\n",
       "\n",
       "    .dataframe tbody tr th {\n",
       "        vertical-align: top;\n",
       "    }\n",
       "\n",
       "    .dataframe thead th {\n",
       "        text-align: right;\n",
       "    }\n",
       "</style>\n",
       "<table border=\"1\" class=\"dataframe\">\n",
       "  <thead>\n",
       "    <tr style=\"text-align: right;\">\n",
       "      <th></th>\n",
       "      <th>NAT_MARK</th>\n",
       "      <th>SCH_NM</th>\n",
       "      <th>PROV_NM</th>\n",
       "      <th>SUBM</th>\n",
       "      <th>Teacher_Gender</th>\n",
       "      <th>ACHIEVEMENTS1</th>\n",
       "      <th>MIDTERM1</th>\n",
       "      <th>FINAL1</th>\n",
       "    </tr>\n",
       "    <tr>\n",
       "      <th>CPR_NO</th>\n",
       "      <th></th>\n",
       "      <th></th>\n",
       "      <th></th>\n",
       "      <th></th>\n",
       "      <th></th>\n",
       "      <th></th>\n",
       "      <th></th>\n",
       "      <th></th>\n",
       "    </tr>\n",
       "  </thead>\n",
       "  <tbody>\n",
       "    <tr>\n",
       "      <th>70913390</th>\n",
       "      <td>53.7</td>\n",
       "      <td>0</td>\n",
       "      <td>0</td>\n",
       "      <td>0</td>\n",
       "      <td>1</td>\n",
       "      <td>28.0</td>\n",
       "      <td>17.0</td>\n",
       "      <td>45.0</td>\n",
       "    </tr>\n",
       "    <tr>\n",
       "      <th>71105956</th>\n",
       "      <td>49.7</td>\n",
       "      <td>0</td>\n",
       "      <td>0</td>\n",
       "      <td>0</td>\n",
       "      <td>1</td>\n",
       "      <td>27.0</td>\n",
       "      <td>14.0</td>\n",
       "      <td>41.5</td>\n",
       "    </tr>\n",
       "    <tr>\n",
       "      <th>70712190</th>\n",
       "      <td>52.1</td>\n",
       "      <td>0</td>\n",
       "      <td>0</td>\n",
       "      <td>0</td>\n",
       "      <td>1</td>\n",
       "      <td>27.0</td>\n",
       "      <td>13.0</td>\n",
       "      <td>27.5</td>\n",
       "    </tr>\n",
       "    <tr>\n",
       "      <th>70207496</th>\n",
       "      <td>52.9</td>\n",
       "      <td>0</td>\n",
       "      <td>0</td>\n",
       "      <td>0</td>\n",
       "      <td>1</td>\n",
       "      <td>26.0</td>\n",
       "      <td>15.0</td>\n",
       "      <td>44.0</td>\n",
       "    </tr>\n",
       "    <tr>\n",
       "      <th>70507953</th>\n",
       "      <td>52.1</td>\n",
       "      <td>0</td>\n",
       "      <td>0</td>\n",
       "      <td>0</td>\n",
       "      <td>1</td>\n",
       "      <td>25.0</td>\n",
       "      <td>14.0</td>\n",
       "      <td>31.5</td>\n",
       "    </tr>\n",
       "  </tbody>\n",
       "</table>\n",
       "</div>"
      ],
      "text/plain": [
       "          NAT_MARK  SCH_NM  PROV_NM  SUBM  Teacher_Gender  ACHIEVEMENTS1  \\\n",
       "CPR_NO                                                                     \n",
       "70913390      53.7       0        0     0               1           28.0   \n",
       "71105956      49.7       0        0     0               1           27.0   \n",
       "70712190      52.1       0        0     0               1           27.0   \n",
       "70207496      52.9       0        0     0               1           26.0   \n",
       "70507953      52.1       0        0     0               1           25.0   \n",
       "\n",
       "          MIDTERM1  FINAL1  \n",
       "CPR_NO                      \n",
       "70913390      17.0    45.0  \n",
       "71105956      14.0    41.5  \n",
       "70712190      13.0    27.5  \n",
       "70207496      15.0    44.0  \n",
       "70507953      14.0    31.5  "
      ]
     },
     "execution_count": 42,
     "metadata": {},
     "output_type": "execute_result"
    }
   ],
   "source": [
    "df_infer.head()"
   ]
  },
  {
   "cell_type": "code",
   "execution_count": 41,
   "metadata": {},
   "outputs": [],
   "source": [
    "df_infer=df_infer[[ 'NAT_MARK','SCH_NM', 'PROV_NM', 'SUBM', 'Teacher_Gender', 'ACHIEVEMENTS1',\n",
    "       'MIDTERM1', 'FINAL1']]"
   ]
  },
  {
   "cell_type": "code",
   "execution_count": null,
   "metadata": {},
   "outputs": [],
   "source": []
  },
  {
   "cell_type": "code",
   "execution_count": null,
   "metadata": {},
   "outputs": [],
   "source": []
  },
  {
   "cell_type": "code",
   "execution_count": null,
   "metadata": {},
   "outputs": [],
   "source": []
  },
  {
   "cell_type": "code",
   "execution_count": null,
   "metadata": {},
   "outputs": [],
   "source": []
  },
  {
   "cell_type": "code",
   "execution_count": 47,
   "metadata": {},
   "outputs": [],
   "source": [
    "from sklearn.preprocessing import LabelEncoder, OneHotEncoder, StandardScaler\n",
    "from sklearn.model_selection import cross_val_score, StratifiedKFold, train_test_split\n",
    "from sklearn.decomposition import PCA\n",
    "from  scipy import stats\n",
    "from sklearn.svm import SVC\n",
    "from sklearn.metrics import mean_absolute_error, mean_squared_error\n",
    "from sklearn.linear_model import LinearRegression"
   ]
  },
  {
   "cell_type": "code",
   "execution_count": 42,
   "metadata": {},
   "outputs": [],
   "source": [
    "bins = [0, 60, 70, 80, 90, 100]\n",
    "names = ['0-60', '60-70', '70-80', '80-90', '90-100']\n",
    "\n",
    "df_infer['NAT_MARK'] = pd.cut(df_infer['NAT_MARK'], bins, labels=names)"
   ]
  },
  {
   "cell_type": "code",
   "execution_count": 43,
   "metadata": {},
   "outputs": [
    {
     "data": {
      "text/plain": [
       "0-60      19242\n",
       "60-70      4023\n",
       "70-80       692\n",
       "80-90        33\n",
       "90-100        0\n",
       "Name: NAT_MARK, dtype: int64"
      ]
     },
     "execution_count": 43,
     "metadata": {},
     "output_type": "execute_result"
    }
   ],
   "source": [
    "df_infer[\"NAT_MARK\"].value_counts()"
   ]
  },
  {
   "cell_type": "code",
   "execution_count": 25,
   "metadata": {},
   "outputs": [
    {
     "data": {
      "text/html": [
       "<div>\n",
       "<style scoped>\n",
       "    .dataframe tbody tr th:only-of-type {\n",
       "        vertical-align: middle;\n",
       "    }\n",
       "\n",
       "    .dataframe tbody tr th {\n",
       "        vertical-align: top;\n",
       "    }\n",
       "\n",
       "    .dataframe thead th {\n",
       "        text-align: right;\n",
       "    }\n",
       "</style>\n",
       "<table border=\"1\" class=\"dataframe\">\n",
       "  <thead>\n",
       "    <tr style=\"text-align: right;\">\n",
       "      <th></th>\n",
       "      <th>NAT_MARK</th>\n",
       "      <th>SCH_NM</th>\n",
       "      <th>PROV_NM</th>\n",
       "      <th>SUBM</th>\n",
       "      <th>Teacher_Gender</th>\n",
       "      <th>ACHIEVEMENTS1</th>\n",
       "      <th>MIDTERM1</th>\n",
       "      <th>FINAL1</th>\n",
       "    </tr>\n",
       "    <tr>\n",
       "      <th>CPR_NO</th>\n",
       "      <th></th>\n",
       "      <th></th>\n",
       "      <th></th>\n",
       "      <th></th>\n",
       "      <th></th>\n",
       "      <th></th>\n",
       "      <th></th>\n",
       "      <th></th>\n",
       "    </tr>\n",
       "  </thead>\n",
       "  <tbody>\n",
       "    <tr>\n",
       "      <th>70913390</th>\n",
       "      <td>53.7</td>\n",
       "      <td>0</td>\n",
       "      <td>0</td>\n",
       "      <td>0</td>\n",
       "      <td>1</td>\n",
       "      <td>28.0</td>\n",
       "      <td>17.0</td>\n",
       "      <td>45.0</td>\n",
       "    </tr>\n",
       "    <tr>\n",
       "      <th>71105956</th>\n",
       "      <td>49.7</td>\n",
       "      <td>0</td>\n",
       "      <td>0</td>\n",
       "      <td>0</td>\n",
       "      <td>1</td>\n",
       "      <td>27.0</td>\n",
       "      <td>14.0</td>\n",
       "      <td>41.5</td>\n",
       "    </tr>\n",
       "    <tr>\n",
       "      <th>70712190</th>\n",
       "      <td>52.1</td>\n",
       "      <td>0</td>\n",
       "      <td>0</td>\n",
       "      <td>0</td>\n",
       "      <td>1</td>\n",
       "      <td>27.0</td>\n",
       "      <td>13.0</td>\n",
       "      <td>27.5</td>\n",
       "    </tr>\n",
       "    <tr>\n",
       "      <th>70207496</th>\n",
       "      <td>52.9</td>\n",
       "      <td>0</td>\n",
       "      <td>0</td>\n",
       "      <td>0</td>\n",
       "      <td>1</td>\n",
       "      <td>26.0</td>\n",
       "      <td>15.0</td>\n",
       "      <td>44.0</td>\n",
       "    </tr>\n",
       "    <tr>\n",
       "      <th>70507953</th>\n",
       "      <td>52.1</td>\n",
       "      <td>0</td>\n",
       "      <td>0</td>\n",
       "      <td>0</td>\n",
       "      <td>1</td>\n",
       "      <td>25.0</td>\n",
       "      <td>14.0</td>\n",
       "      <td>31.5</td>\n",
       "    </tr>\n",
       "  </tbody>\n",
       "</table>\n",
       "</div>"
      ],
      "text/plain": [
       "          NAT_MARK  SCH_NM  PROV_NM  SUBM  Teacher_Gender  ACHIEVEMENTS1  \\\n",
       "CPR_NO                                                                     \n",
       "70913390      53.7       0        0     0               1           28.0   \n",
       "71105956      49.7       0        0     0               1           27.0   \n",
       "70712190      52.1       0        0     0               1           27.0   \n",
       "70207496      52.9       0        0     0               1           26.0   \n",
       "70507953      52.1       0        0     0               1           25.0   \n",
       "\n",
       "          MIDTERM1  FINAL1  \n",
       "CPR_NO                      \n",
       "70913390      17.0    45.0  \n",
       "71105956      14.0    41.5  \n",
       "70712190      13.0    27.5  \n",
       "70207496      15.0    44.0  \n",
       "70507953      14.0    31.5  "
      ]
     },
     "execution_count": 25,
     "metadata": {},
     "output_type": "execute_result"
    }
   ],
   "source": [
    "df_infer.head()"
   ]
  },
  {
   "cell_type": "code",
   "execution_count": 140,
   "metadata": {},
   "outputs": [],
   "source": [
    "df_infer.to_csv(\"data/aws_inference_std_regr_29_4.csv\" , index=False)"
   ]
  },
  {
   "cell_type": "code",
   "execution_count": 141,
   "metadata": {},
   "outputs": [
    {
     "name": "stdout",
     "output_type": "stream",
     "text": [
      "libc++abi.dylib: terminating with uncaught exception of type std::runtime_error: Couldn't close file\r\n"
     ]
    }
   ],
   "source": [
    "! aws  s3  cp \"data/aws_inference_std_regr_29_4.csv\"  s3://sec-students2016/sam1610"
   ]
  },
  {
   "cell_type": "code",
   "execution_count": 136,
   "metadata": {},
   "outputs": [
    {
     "name": "stdout",
     "output_type": "stream",
     "text": [
      "libc++abi.dylib: terminating with uncaught exception of type std::runtime_error: Couldn't close file\r\n"
     ]
    }
   ],
   "source": [
    "! aws s3 ls "
   ]
  },
  {
   "cell_type": "code",
   "execution_count": null,
   "metadata": {},
   "outputs": [],
   "source": []
  },
  {
   "cell_type": "code",
   "execution_count": 44,
   "metadata": {},
   "outputs": [],
   "source": [
    "y=df_infer[\"NAT_MARK\"].ravel()\n",
    "X=df_infer.drop(['NAT_MARK'], axis=1)"
   ]
  },
  {
   "cell_type": "code",
   "execution_count": null,
   "metadata": {},
   "outputs": [],
   "source": []
  },
  {
   "cell_type": "code",
   "execution_count": null,
   "metadata": {},
   "outputs": [],
   "source": []
  },
  {
   "cell_type": "code",
   "execution_count": null,
   "metadata": {},
   "outputs": [],
   "source": []
  },
  {
   "cell_type": "code",
   "execution_count": null,
   "metadata": {},
   "outputs": [],
   "source": []
  },
  {
   "cell_type": "code",
   "execution_count": null,
   "metadata": {},
   "outputs": [],
   "source": []
  },
  {
   "cell_type": "code",
   "execution_count": 21,
   "metadata": {},
   "outputs": [],
   "source": [
    "column_trans=make_column_transformer(\n",
    "(StandardScaler(), ['ACHIEVEMENTS1', 'MIDTERM1' , 'FINAL1']),\n",
    "(OneHotEncoder(), ['PROV_NM', 'SCH_NM']),\n",
    "   #PCA(n_components=.95, svd_solver=\"full\"),\n",
    " remainder=\"passthrough\")\n",
    "\n"
   ]
  },
  {
   "cell_type": "code",
   "execution_count": 58,
   "metadata": {},
   "outputs": [
    {
     "data": {
      "text/plain": [
       "XGBRegressor(base_score=0.5, booster='gbtree', colsample_bylevel=1,\n",
       "             colsample_bynode=1, colsample_bytree=1, gamma=0,\n",
       "             importance_type='gain', learning_rate=0.1, max_delta_step=0,\n",
       "             max_depth=3, min_child_weight=1, missing=None, n_estimators=100,\n",
       "             n_jobs=1, nthread=None, objective='reg:linear', random_state=0,\n",
       "             reg_alpha=0, reg_lambda=1, scale_pos_weight=1, seed=None,\n",
       "             silent=None, subsample=1, verbosity=1)"
      ]
     },
     "execution_count": 58,
     "metadata": {},
     "output_type": "execute_result"
    }
   ],
   "source": [
    "XGBRegressor()"
   ]
  },
  {
   "cell_type": "code",
   "execution_count": 115,
   "metadata": {},
   "outputs": [],
   "source": [
    "pipe=make_pipeline( column_trans, \n",
    "                   #SVC()\n",
    "#XGBRegressor(  objective=\"reg:squarederror\", num_round=150, nthread=-1)\n",
    "                  LinearRegression()\n",
    "                  )"
   ]
  },
  {
   "cell_type": "code",
   "execution_count": 87,
   "metadata": {},
   "outputs": [
    {
     "data": {
      "text/plain": [
       "array([  5,  85, 165, 245, 325, 405, 485])"
      ]
     },
     "execution_count": 87,
     "metadata": {},
     "output_type": "execute_result"
    }
   ],
   "source": [
    "np.arange(5, 500, 80)"
   ]
  },
  {
   "cell_type": "code",
   "execution_count": 109,
   "metadata": {},
   "outputs": [],
   "source": [
    "from scipy import stats as st\n",
    "# A parameter grid for XGBoost\n",
    "paramR = {    'xgbrregressor__max_depth':np.arange(4,10), \n",
    "              'xgbrregressor__eta':np.arange(0.1,.7, .02), \n",
    "              'xgbrregressor__scale_pos_weight':np.arange(1,21,4 ),\n",
    "              'xgbrregressor__n_estimators':np.arange(100,500,80 )\n",
    "\n",
    "         }\n",
    "\n",
    "param_1={\n",
    "    \"svc__C\":stats.expon(scale=100), \n",
    "    \"svc__gamma\":stats.expon(scale=.1),\n",
    "    \"svc__class_weight\":[\"balanced\", \"None\"] }\n",
    "\n",
    "params = {'xgbrregressor__n_estimators':np.arange(100,500,80 ), 'xgbrregressor__min_child_weight':[4,5], 'xgbrregressor__gamma':[i/10.0 for i in range(3,6)],  'xgbrregressor__subsample':[i/10.0 for i in range(6,11)],\n",
    "'xgbrregressor__colsample_bytree':[i/10.0 for i in range(6,11)], 'xgbrregressor__max_depth': [2,3,4]}"
   ]
  },
  {
   "cell_type": "code",
   "execution_count": 110,
   "metadata": {},
   "outputs": [],
   "source": [
    "\n",
    "X_train,X_test,y_train, y_test=train_test_split(X,y , test_size=0.3,random_state=42)\n",
    "X_valid,X_test,y_valid, y_test=train_test_split(X_test,y_test , test_size=0.5,random_state=123)"
   ]
  },
  {
   "cell_type": "code",
   "execution_count": null,
   "metadata": {},
   "outputs": [],
   "source": []
  },
  {
   "cell_type": "code",
   "execution_count": 116,
   "metadata": {},
   "outputs": [
    {
     "data": {
      "text/plain": [
       "Pipeline(memory=None,\n",
       "         steps=[('columntransformer',\n",
       "                 ColumnTransformer(n_jobs=None, remainder='passthrough',\n",
       "                                   sparse_threshold=0.3,\n",
       "                                   transformer_weights=None,\n",
       "                                   transformers=[('standardscaler',\n",
       "                                                  StandardScaler(copy=True,\n",
       "                                                                 with_mean=True,\n",
       "                                                                 with_std=True),\n",
       "                                                  ['ACHIEVEMENTS1', 'MIDTERM1',\n",
       "                                                   'FINAL1']),\n",
       "                                                 ('onehotencoder',\n",
       "                                                  OneHotEncoder(categories='auto',\n",
       "                                                                drop=None,\n",
       "                                                                dtype=<class 'numpy.float64'>,\n",
       "                                                                handle_unknown='error',\n",
       "                                                                sparse=True),\n",
       "                                                  ['PROV_NM', 'SCH_NM'])],\n",
       "                                   verbose=False)),\n",
       "                ('linearregression',\n",
       "                 LinearRegression(copy_X=True, fit_intercept=True, n_jobs=None,\n",
       "                                  normalize=False))],\n",
       "         verbose=False)"
      ]
     },
     "execution_count": 116,
     "metadata": {},
     "output_type": "execute_result"
    }
   ],
   "source": [
    "pipe.fit(X_train,y_train) "
   ]
  },
  {
   "cell_type": "code",
   "execution_count": null,
   "metadata": {},
   "outputs": [],
   "source": []
  },
  {
   "cell_type": "code",
   "execution_count": null,
   "metadata": {},
   "outputs": [],
   "source": []
  },
  {
   "cell_type": "code",
   "execution_count": 112,
   "metadata": {},
   "outputs": [],
   "source": [
    "\n",
    "skf = StratifiedKFold(n_splits=10 ,shuffle = True, random_state = 42)\n",
    "\n",
    "GridSearch =GridSearchCV(pipe, params , n_jobs=-1,\n",
    "                                  )\n",
    "\n",
    "# Here we go\n",
    "#start_time = timer(None) # timing starts from this point for \"start_time\" variable\n",
    "\n",
    "#timer(start_time) # timing ends here for \"start_time\" variable"
   ]
  },
  {
   "cell_type": "code",
   "execution_count": 114,
   "metadata": {},
   "outputs": [],
   "source": [
    "# GridSearch.fit(X_train, y_train)"
   ]
  },
  {
   "cell_type": "code",
   "execution_count": 57,
   "metadata": {},
   "outputs": [
    {
     "name": "stdout",
     "output_type": "stream",
     "text": [
      "\n",
      " All results:\n",
      "{'mean_fit_time': array([45.06857574,  9.46135557, 39.07052221, 15.04191513, 22.12282875,\n",
      "       28.9378767 ,  9.19555049, 16.43883669, 29.75552979, 13.32436202]), 'std_fit_time': array([1.84490535, 0.11855011, 0.27310477, 0.20600505, 0.17487082,\n",
      "       0.26987305, 0.11358366, 0.12598477, 0.12815773, 0.73891331]), 'mean_score_time': array([0.92446196, 0.17434592, 0.59523089, 0.14403648, 0.17777848,\n",
      "       0.44407551, 0.1334836 , 0.28353562, 0.43394079, 0.18117583]), 'std_score_time': array([0.12631951, 0.02224969, 0.0234751 , 0.01358194, 0.00497099,\n",
      "       0.03474379, 0.00578946, 0.00855257, 0.01792666, 0.0243495 ]), 'param_xgbclassifier__colsample_bytree': masked_array(data=[0.34708610696262626, 0.15041677639819287,\n",
      "                   0.551003510568888, 0.010700889256912895,\n",
      "                   0.016359674697745664, 0.05199909689225389,\n",
      "                   0.5431731119758383, 0.06854643368675156,\n",
      "                   0.2841523922560336, 0.5589969920043588],\n",
      "             mask=[False, False, False, False, False, False, False, False,\n",
      "                   False, False],\n",
      "       fill_value='?',\n",
      "            dtype=object), 'param_xgbclassifier__learning_rate': masked_array(data=[0.5804285838459496, 0.10359671220172158,\n",
      "                   0.4348435466776273, 0.6053269355747305,\n",
      "                   0.023837455024849456, 0.5942533113048755,\n",
      "                   0.03787024763199864, 0.5793313223519999,\n",
      "                   0.06860326840383031, 0.5099169470416985],\n",
      "             mask=[False, False, False, False, False, False, False, False,\n",
      "                   False, False],\n",
      "       fill_value='?',\n",
      "            dtype=object), 'param_xgbclassifier__max_depth': masked_array(data=[5, 5, 7, 3, 5, 5, 5, 6, 6, 5],\n",
      "             mask=[False, False, False, False, False, False, False, False,\n",
      "                   False, False],\n",
      "       fill_value='?',\n",
      "            dtype=object), 'param_xgbclassifier__min_child_weight': masked_array(data=[4, 3, 2, 4, 3, 4, 3, 2, 4, 2],\n",
      "             mask=[False, False, False, False, False, False, False, False,\n",
      "                   False, False],\n",
      "       fill_value='?',\n",
      "            dtype=object), 'param_xgbclassifier__n_estimators': masked_array(data=[800, 187, 443, 413, 610, 666, 120, 341, 466, 180],\n",
      "             mask=[False, False, False, False, False, False, False, False,\n",
      "                   False, False],\n",
      "       fill_value='?',\n",
      "            dtype=object), 'param_xgbclassifier__scale_pos_weight': masked_array(data=[81, 81, 101, 101, 181, 61, 161, 181, 121, 61],\n",
      "             mask=[False, False, False, False, False, False, False, False,\n",
      "                   False, False],\n",
      "       fill_value='?',\n",
      "            dtype=object), 'params': [{'xgbclassifier__colsample_bytree': 0.34708610696262626, 'xgbclassifier__learning_rate': 0.5804285838459496, 'xgbclassifier__max_depth': 5, 'xgbclassifier__min_child_weight': 4, 'xgbclassifier__n_estimators': 800, 'xgbclassifier__scale_pos_weight': 81}, {'xgbclassifier__colsample_bytree': 0.15041677639819287, 'xgbclassifier__learning_rate': 0.10359671220172158, 'xgbclassifier__max_depth': 5, 'xgbclassifier__min_child_weight': 3, 'xgbclassifier__n_estimators': 187, 'xgbclassifier__scale_pos_weight': 81}, {'xgbclassifier__colsample_bytree': 0.551003510568888, 'xgbclassifier__learning_rate': 0.4348435466776273, 'xgbclassifier__max_depth': 7, 'xgbclassifier__min_child_weight': 2, 'xgbclassifier__n_estimators': 443, 'xgbclassifier__scale_pos_weight': 101}, {'xgbclassifier__colsample_bytree': 0.010700889256912895, 'xgbclassifier__learning_rate': 0.6053269355747305, 'xgbclassifier__max_depth': 3, 'xgbclassifier__min_child_weight': 4, 'xgbclassifier__n_estimators': 413, 'xgbclassifier__scale_pos_weight': 101}, {'xgbclassifier__colsample_bytree': 0.016359674697745664, 'xgbclassifier__learning_rate': 0.023837455024849456, 'xgbclassifier__max_depth': 5, 'xgbclassifier__min_child_weight': 3, 'xgbclassifier__n_estimators': 610, 'xgbclassifier__scale_pos_weight': 181}, {'xgbclassifier__colsample_bytree': 0.05199909689225389, 'xgbclassifier__learning_rate': 0.5942533113048755, 'xgbclassifier__max_depth': 5, 'xgbclassifier__min_child_weight': 4, 'xgbclassifier__n_estimators': 666, 'xgbclassifier__scale_pos_weight': 61}, {'xgbclassifier__colsample_bytree': 0.5431731119758383, 'xgbclassifier__learning_rate': 0.03787024763199864, 'xgbclassifier__max_depth': 5, 'xgbclassifier__min_child_weight': 3, 'xgbclassifier__n_estimators': 120, 'xgbclassifier__scale_pos_weight': 161}, {'xgbclassifier__colsample_bytree': 0.06854643368675156, 'xgbclassifier__learning_rate': 0.5793313223519999, 'xgbclassifier__max_depth': 6, 'xgbclassifier__min_child_weight': 2, 'xgbclassifier__n_estimators': 341, 'xgbclassifier__scale_pos_weight': 181}, {'xgbclassifier__colsample_bytree': 0.2841523922560336, 'xgbclassifier__learning_rate': 0.06860326840383031, 'xgbclassifier__max_depth': 6, 'xgbclassifier__min_child_weight': 4, 'xgbclassifier__n_estimators': 466, 'xgbclassifier__scale_pos_weight': 121}, {'xgbclassifier__colsample_bytree': 0.5589969920043588, 'xgbclassifier__learning_rate': 0.5099169470416985, 'xgbclassifier__max_depth': 5, 'xgbclassifier__min_child_weight': 2, 'xgbclassifier__n_estimators': 180, 'xgbclassifier__scale_pos_weight': 61}], 'split0_test_score': array([0.45922863, 0.39252124, 0.45160169, 0.3809777 , 0.22249752,\n",
      "       0.43816074, 0.37617735, 0.4392086 , 0.41635597, 0.46067504]), 'split1_test_score': array([0.46402902, 0.41692853, 0.46633203, 0.39066189, 0.22249752,\n",
      "       0.468011  , 0.38912097, 0.46524845, 0.46974098, 0.47280493]), 'split2_test_score': array([0.45937551, 0.41695265, 0.46858429, 0.41480261, 0.22249752,\n",
      "       0.44606483, 0.36985452, 0.44578547, 0.45133563, 0.46602079]), 'split3_test_score': array([0.39997796, 0.39690126, 0.39131257, 0.39519745, 0.22257105,\n",
      "       0.41561758, 0.38548634, 0.41396636, 0.41037058, 0.41040582]), 'split4_test_score': array([0.4588805 , 0.41065814, 0.44832449, 0.39267138, 0.22257105,\n",
      "       0.44498927, 0.37001628, 0.4562282 , 0.43469497, 0.45373414]), 'split5_test_score': array([0.43728694, 0.38031706, 0.43572928, 0.38455871, 0.22257105,\n",
      "       0.42923666, 0.36331591, 0.41711596, 0.41692595, 0.42945233]), 'split6_test_score': array([0.44419074, 0.37905256, 0.4496218 , 0.37703661, 0.22257105,\n",
      "       0.43121606, 0.36513994, 0.44138775, 0.43200644, 0.45152622]), 'split7_test_score': array([0.46129076, 0.39424234, 0.432247  , 0.38848604, 0.22257105,\n",
      "       0.42493937, 0.37143376, 0.43802945, 0.42370303, 0.44786136]), 'split8_test_score': array([0.41822966, 0.4062525 , 0.43650143, 0.40564782, 0.22257105,\n",
      "       0.41781869, 0.38984845, 0.42596521, 0.42881647, 0.43398032]), 'split9_test_score': array([0.45452612, 0.40421214, 0.45845133, 0.39528631, 0.22247934,\n",
      "       0.44070183, 0.37815692, 0.46694835, 0.45170649, 0.4489791 ]), 'mean_test_score': array([0.44570158, 0.39980384, 0.44387059, 0.39253265, 0.22253982,\n",
      "       0.4356756 , 0.37585504, 0.44098838, 0.43356565, 0.447544  ]), 'std_test_score': array([2.02950149e-02, 1.29186405e-02, 2.11154064e-02, 1.06759759e-02,\n",
      "       3.85713217e-05, 1.47292391e-02, 9.11950310e-03, 1.74802612e-02,\n",
      "       1.78552882e-02, 1.76033892e-02]), 'rank_test_score': array([ 2,  7,  3,  8, 10,  5,  9,  4,  6,  1], dtype=int32)}\n",
      "\n",
      " Best estimator:\n",
      "Pipeline(memory=None,\n",
      "         steps=[('columntransformer',\n",
      "                 ColumnTransformer(n_jobs=None, remainder='passthrough',\n",
      "                                   sparse_threshold=0.3,\n",
      "                                   transformer_weights=None,\n",
      "                                   transformers=[('standardscaler',\n",
      "                                                  StandardScaler(copy=True,\n",
      "                                                                 with_mean=True,\n",
      "                                                                 with_std=True),\n",
      "                                                  ['ACHIEVEMENTS1', 'MIDTERM1',\n",
      "                                                   'FINAL1']),\n",
      "                                                 ('onehotencoder',\n",
      "                                                  OneHotEncoder(categories='auto',\n",
      "                                                                drop=None,\n",
      "                                                                dtype=<class 'num...\n",
      "                               colsample_bylevel=1, colsample_bynode=1,\n",
      "                               colsample_bytree=0.5589969920043588, gamma=0,\n",
      "                               learning_rate=0.5099169470416985,\n",
      "                               max_delta_step=0, max_depth=5,\n",
      "                               min_child_weight=2, missing=None,\n",
      "                               n_estimators=180, n_jobs=1, nthread=-1,\n",
      "                               objective='multi:softprob', random_state=0,\n",
      "                               reg_alpha=0, reg_lambda=1, scale_pos_weight=61,\n",
      "                               seed=42, silent=True, subsample=1,\n",
      "                               verbosity=1))],\n",
      "         verbose=False)\n",
      "\n",
      " Best normalized gini score for 3-fold search with 5 parameter combinations:\n",
      "-0.10491199359453685\n",
      "\n",
      " Best hyperparameters:\n",
      "{'xgbclassifier__colsample_bytree': 0.5589969920043588, 'xgbclassifier__learning_rate': 0.5099169470416985, 'xgbclassifier__max_depth': 5, 'xgbclassifier__min_child_weight': 2, 'xgbclassifier__n_estimators': 180, 'xgbclassifier__scale_pos_weight': 61}\n"
     ]
    }
   ],
   "source": [
    "print('\\n All results:')\n",
    "print(random_search.cv_results_)\n",
    "print('\\n Best estimator:')\n",
    "print(random_search.best_estimator_)\n",
    "print('\\n Best normalized gini score for %d-fold search with %d parameter combinations:' % (3, 5))\n",
    "print(random_search.best_score_ * 2 - 1)\n",
    "print('\\n Best hyperparameters:')\n",
    "print(random_search.best_params_)\n",
    "results = pd.DataFrame(random_search.cv_results_)\n",
    "results.to_csv('xgb-random-grid-search-results-01.csv', index=False)"
   ]
  },
  {
   "cell_type": "code",
   "execution_count": 58,
   "metadata": {},
   "outputs": [
    {
     "data": {
      "text/plain": [
       "CPR_NO\n",
       "70315329    0-60\n",
       "71011617    0-60\n",
       "70616426    0-60\n",
       "70213348    0-60\n",
       "70508437    0-60\n",
       "Name: NAT_MARK, dtype: category\n",
       "Categories (5, object): [0-60 < 60-70 < 70-80 < 80-90 < 90-100]"
      ]
     },
     "execution_count": 58,
     "metadata": {},
     "output_type": "execute_result"
    }
   ],
   "source": [
    "y_train.head()"
   ]
  },
  {
   "cell_type": "markdown",
   "metadata": {},
   "source": [
    "# Learning curve"
   ]
  },
  {
   "cell_type": "code",
   "execution_count": 59,
   "metadata": {},
   "outputs": [],
   "source": [
    "from sklearn.model_selection import learning_curve\n",
    "\n",
    "train_size, train_score, test_score =learning_curve(estimator=pipe, \n",
    "                                                    X=X_train, \n",
    "                                                    y=y_train,\n",
    "                                                    train_sizes=np.linspace(0.1, 1, 10 ), scoring='f1_weighted',\n",
    "                                                    \n",
    "                                                    cv=10 , n_jobs=1)"
   ]
  },
  {
   "cell_type": "code",
   "execution_count": 121,
   "metadata": {},
   "outputs": [],
   "source": [
    "train_mean=np.mean(train_score, axis=1)\n",
    "train_std= np.std (train_score, axis=1)\n",
    "test_mean= np.mean(test_score,  axis=1)\n",
    "test_std=  np.std (test_score,  axis=1)"
   ]
  },
  {
   "cell_type": "code",
   "execution_count": 64,
   "metadata": {},
   "outputs": [
    {
     "data": {
      "image/png": "[encoded data removed]",
      "text/plain": [
       "<Figure size 864x504 with 1 Axes>"
      ]
     },
     "metadata": {
      "needs_background": "light"
     },
     "output_type": "display_data"
    }
   ],
   "source": [
    "import matplotlib.pyplot as plt\n",
    "plt.figure(figsize=(12, 7))\n",
    "plotGraph(train_size, train_mean, test_mean, \n",
    "          train_std, test_std,\"linear\", \"Number of Training Example\")"
   ]
  },
  {
   "cell_type": "markdown",
   "metadata": {},
   "source": [
    "# validation curves"
   ]
  },
  {
   "cell_type": "code",
   "execution_count": 84,
   "metadata": {},
   "outputs": [
    {
     "data": {
      "text/plain": [
       "array([0. , 0.2, 0.4, 0.6, 0.8, 1. ])"
      ]
     },
     "execution_count": 84,
     "metadata": {},
     "output_type": "execute_result"
    }
   ],
   "source": [
    "np.arange(0, 1.2,0.2 )"
   ]
  },
  {
   "cell_type": "code",
   "execution_count": 88,
   "metadata": {},
   "outputs": [],
   "source": [
    "# from sklearn.model_selection import validation_curve\n",
    "param_range =np.arange(0, 1.2, 0.2)\n",
    "train_score, test_score =validation_curve(\n",
    "    estimator=pipe, X=X_train, y=y_train, \n",
    "    param_name=\"xgbclassifier__reg_alpha\", param_range=param_range, \n",
    "    cv=10,\n",
    "    n_jobs=-1\n",
    "\n",
    ")\n",
    "train_mean=np.mean(train_score, axis=1)\n",
    "train_std= np.std (train_score, axis=1)\n",
    "test_mean= np.mean(test_score,  axis=1)\n",
    "test_std=  np.std (test_score,  axis=1)\n",
    "\n",
    "# plt.plot(param_range, train_mean, \n",
    "#         color=\"blue\", \n",
    "#          marker=\"o\",\n",
    "#          markersize=5, \n",
    "#          label=\"Training Accuracy \"\n",
    "#         )\n"
   ]
  },
  {
   "cell_type": "code",
   "execution_count": 90,
   "metadata": {},
   "outputs": [
    {
     "data": {
      "image/png": "[encoded data removed]",
      "text/plain": [
       "<Figure size 432x288 with 1 Axes>"
      ]
     },
     "metadata": {
      "needs_background": "light"
     },
     "output_type": "display_data"
    }
   ],
   "source": [
    "plotGraph(param_range, train_mean, test_mean, train_std, test_std, \"linear\", \"Parameter C\")"
   ]
  },
  {
   "cell_type": "code",
   "execution_count": null,
   "metadata": {},
   "outputs": [],
   "source": []
  },
  {
   "cell_type": "code",
   "execution_count": null,
   "metadata": {},
   "outputs": [],
   "source": []
  },
  {
   "cell_type": "code",
   "execution_count": 128,
   "metadata": {},
   "outputs": [
    {
     "data": {
      "text/plain": [
       "{'xgbclassifier__colsample_bytree': 0.5589969920043588,\n",
       " 'xgbclassifier__learning_rate': 0.5099169470416985,\n",
       " 'xgbclassifier__max_depth': 5,\n",
       " 'xgbclassifier__min_child_weight': 2,\n",
       " 'xgbclassifier__n_estimators': 180,\n",
       " 'xgbclassifier__scale_weight': 61}"
      ]
     },
     "execution_count": 128,
     "metadata": {},
     "output_type": "execute_result"
    }
   ],
   "source": [
    "random_search.best_params_"
   ]
  },
  {
   "cell_type": "code",
   "execution_count": 127,
   "metadata": {},
   "outputs": [],
   "source": [
    "clf=random_search.best_estimator_"
   ]
  },
  {
   "cell_type": "code",
   "execution_count": 19,
   "metadata": {},
   "outputs": [],
   "source": [
    "pipe=make_pipeline( column_trans, \n",
    "XGBClassifier(colsample_bytree=0.31033775002511965,\n",
    " learning_rate= 0.09572009075316446,\n",
    " max_depth= 5,\n",
    " min_child_weight= 2,\n",
    " n_estimators= 408))"
   ]
  },
  {
   "cell_type": "code",
   "execution_count": 138,
   "metadata": {},
   "outputs": [],
   "source": [
    "xg_classifier=XGBClassifier(colsample_bytree=0.5589969920043588,\n",
    " learning_rate= 0.5099169470416985,\n",
    " max_depth= 5,\n",
    " min_child_weight= 2,\n",
    " n_estimators= 180, scale_weight= 61)"
   ]
  },
  {
   "cell_type": "code",
   "execution_count": 48,
   "metadata": {},
   "outputs": [
    {
     "name": "stdout",
     "output_type": "stream",
     "text": [
      "[10:32:33] WARNING: /tmp/xgboost-20191007-44032-1f3rb3e/src/objective/regression_obj.cu:152: reg:linear is now deprecated in favor of reg:squarederror.\n",
      "[0]\tvalidation_0-rmse:46.6325\tvalidation_1-rmse:47.0324\n",
      "[1]\tvalidation_0-rmse:42.089\tvalidation_1-rmse:42.4892\n",
      "[2]\tvalidation_0-rmse:38.0115\tvalidation_1-rmse:38.4131\n",
      "[3]\tvalidation_0-rmse:34.3515\tvalidation_1-rmse:34.7559\n",
      "[4]\tvalidation_0-rmse:31.075\tvalidation_1-rmse:31.4854\n",
      "[5]\tvalidation_0-rmse:28.1446\tvalidation_1-rmse:28.5651\n",
      "[6]\tvalidation_0-rmse:25.52\tvalidation_1-rmse:25.9451\n",
      "[7]\tvalidation_0-rmse:23.1795\tvalidation_1-rmse:23.6151\n",
      "[8]\tvalidation_0-rmse:21.0866\tvalidation_1-rmse:21.5328\n",
      "[9]\tvalidation_0-rmse:19.2187\tvalidation_1-rmse:19.6819\n",
      "[10]\tvalidation_0-rmse:17.5566\tvalidation_1-rmse:18.0331\n",
      "[11]\tvalidation_0-rmse:16.0886\tvalidation_1-rmse:16.5858\n",
      "[12]\tvalidation_0-rmse:14.7909\tvalidation_1-rmse:15.3068\n",
      "[13]\tvalidation_0-rmse:13.6511\tvalidation_1-rmse:14.1873\n",
      "[14]\tvalidation_0-rmse:12.6508\tvalidation_1-rmse:13.2063\n",
      "[15]\tvalidation_0-rmse:11.7682\tvalidation_1-rmse:12.3475\n",
      "[16]\tvalidation_0-rmse:11.0006\tvalidation_1-rmse:11.6032\n",
      "[17]\tvalidation_0-rmse:10.3404\tvalidation_1-rmse:10.9618\n",
      "[18]\tvalidation_0-rmse:9.77169\tvalidation_1-rmse:10.4117\n",
      "[19]\tvalidation_0-rmse:9.27548\tvalidation_1-rmse:9.93478\n",
      "[20]\tvalidation_0-rmse:8.85043\tvalidation_1-rmse:9.52442\n",
      "[21]\tvalidation_0-rmse:8.4891\tvalidation_1-rmse:9.1807\n",
      "[22]\tvalidation_0-rmse:8.17663\tvalidation_1-rmse:8.88636\n",
      "[23]\tvalidation_0-rmse:7.91418\tvalidation_1-rmse:8.63698\n",
      "[24]\tvalidation_0-rmse:7.69114\tvalidation_1-rmse:8.42286\n",
      "[25]\tvalidation_0-rmse:7.51205\tvalidation_1-rmse:8.25479\n",
      "[26]\tvalidation_0-rmse:7.35853\tvalidation_1-rmse:8.10995\n",
      "[27]\tvalidation_0-rmse:7.22115\tvalidation_1-rmse:7.98419\n",
      "[28]\tvalidation_0-rmse:7.11124\tvalidation_1-rmse:7.88127\n",
      "[29]\tvalidation_0-rmse:7.02383\tvalidation_1-rmse:7.79948\n",
      "[30]\tvalidation_0-rmse:6.9403\tvalidation_1-rmse:7.72047\n",
      "[31]\tvalidation_0-rmse:6.8782\tvalidation_1-rmse:7.66328\n",
      "[32]\tvalidation_0-rmse:6.81762\tvalidation_1-rmse:7.60771\n",
      "[33]\tvalidation_0-rmse:6.76651\tvalidation_1-rmse:7.56102\n",
      "[34]\tvalidation_0-rmse:6.72397\tvalidation_1-rmse:7.52092\n",
      "[35]\tvalidation_0-rmse:6.68666\tvalidation_1-rmse:7.48877\n",
      "[36]\tvalidation_0-rmse:6.65828\tvalidation_1-rmse:7.46436\n",
      "[37]\tvalidation_0-rmse:6.6261\tvalidation_1-rmse:7.43617\n",
      "[38]\tvalidation_0-rmse:6.60157\tvalidation_1-rmse:7.41793\n",
      "[39]\tvalidation_0-rmse:6.58171\tvalidation_1-rmse:7.40008\n",
      "[40]\tvalidation_0-rmse:6.56618\tvalidation_1-rmse:7.38579\n",
      "[41]\tvalidation_0-rmse:6.54616\tvalidation_1-rmse:7.36757\n",
      "[42]\tvalidation_0-rmse:6.52463\tvalidation_1-rmse:7.35105\n",
      "[43]\tvalidation_0-rmse:6.50403\tvalidation_1-rmse:7.3344\n",
      "[44]\tvalidation_0-rmse:6.49009\tvalidation_1-rmse:7.32661\n",
      "[45]\tvalidation_0-rmse:6.47674\tvalidation_1-rmse:7.31595\n",
      "[46]\tvalidation_0-rmse:6.46329\tvalidation_1-rmse:7.30438\n",
      "[47]\tvalidation_0-rmse:6.45558\tvalidation_1-rmse:7.29818\n",
      "[48]\tvalidation_0-rmse:6.44384\tvalidation_1-rmse:7.28916\n",
      "[49]\tvalidation_0-rmse:6.4399\tvalidation_1-rmse:7.28603\n",
      "[50]\tvalidation_0-rmse:6.4296\tvalidation_1-rmse:7.27974\n",
      "[51]\tvalidation_0-rmse:6.41665\tvalidation_1-rmse:7.27049\n",
      "[52]\tvalidation_0-rmse:6.40793\tvalidation_1-rmse:7.26604\n",
      "[53]\tvalidation_0-rmse:6.39199\tvalidation_1-rmse:7.2588\n",
      "[54]\tvalidation_0-rmse:6.38217\tvalidation_1-rmse:7.25315\n",
      "[55]\tvalidation_0-rmse:6.37835\tvalidation_1-rmse:7.24999\n",
      "[56]\tvalidation_0-rmse:6.37036\tvalidation_1-rmse:7.24359\n",
      "[57]\tvalidation_0-rmse:6.3608\tvalidation_1-rmse:7.23851\n",
      "[58]\tvalidation_0-rmse:6.35303\tvalidation_1-rmse:7.23676\n",
      "[59]\tvalidation_0-rmse:6.34494\tvalidation_1-rmse:7.23405\n",
      "[60]\tvalidation_0-rmse:6.34074\tvalidation_1-rmse:7.23137\n",
      "[61]\tvalidation_0-rmse:6.33486\tvalidation_1-rmse:7.2295\n",
      "[62]\tvalidation_0-rmse:6.329\tvalidation_1-rmse:7.22933\n",
      "[63]\tvalidation_0-rmse:6.32456\tvalidation_1-rmse:7.22685\n",
      "[64]\tvalidation_0-rmse:6.31974\tvalidation_1-rmse:7.2249\n",
      "[65]\tvalidation_0-rmse:6.31616\tvalidation_1-rmse:7.2235\n",
      "[66]\tvalidation_0-rmse:6.31299\tvalidation_1-rmse:7.22171\n",
      "[67]\tvalidation_0-rmse:6.30854\tvalidation_1-rmse:7.22213\n",
      "[68]\tvalidation_0-rmse:6.30613\tvalidation_1-rmse:7.22222\n",
      "[69]\tvalidation_0-rmse:6.30067\tvalidation_1-rmse:7.22047\n",
      "[70]\tvalidation_0-rmse:6.29716\tvalidation_1-rmse:7.21877\n",
      "[71]\tvalidation_0-rmse:6.29005\tvalidation_1-rmse:7.21796\n",
      "[72]\tvalidation_0-rmse:6.2861\tvalidation_1-rmse:7.21597\n",
      "[73]\tvalidation_0-rmse:6.28381\tvalidation_1-rmse:7.21557\n",
      "[74]\tvalidation_0-rmse:6.28121\tvalidation_1-rmse:7.21566\n",
      "[75]\tvalidation_0-rmse:6.27405\tvalidation_1-rmse:7.21029\n",
      "[76]\tvalidation_0-rmse:6.26966\tvalidation_1-rmse:7.21224\n",
      "[77]\tvalidation_0-rmse:6.26681\tvalidation_1-rmse:7.21125\n",
      "[78]\tvalidation_0-rmse:6.25627\tvalidation_1-rmse:7.20528\n",
      "[79]\tvalidation_0-rmse:6.25351\tvalidation_1-rmse:7.2065\n",
      "[80]\tvalidation_0-rmse:6.24412\tvalidation_1-rmse:7.20015\n",
      "[81]\tvalidation_0-rmse:6.23952\tvalidation_1-rmse:7.19733\n",
      "[82]\tvalidation_0-rmse:6.23252\tvalidation_1-rmse:7.19358\n",
      "[83]\tvalidation_0-rmse:6.22851\tvalidation_1-rmse:7.19191\n",
      "[84]\tvalidation_0-rmse:6.22195\tvalidation_1-rmse:7.18798\n",
      "[85]\tvalidation_0-rmse:6.2169\tvalidation_1-rmse:7.18658\n",
      "[86]\tvalidation_0-rmse:6.21288\tvalidation_1-rmse:7.18567\n",
      "[87]\tvalidation_0-rmse:6.20797\tvalidation_1-rmse:7.18566\n",
      "[88]\tvalidation_0-rmse:6.20465\tvalidation_1-rmse:7.18512\n",
      "[89]\tvalidation_0-rmse:6.20166\tvalidation_1-rmse:7.18494\n",
      "[90]\tvalidation_0-rmse:6.19895\tvalidation_1-rmse:7.1852\n",
      "[91]\tvalidation_0-rmse:6.19544\tvalidation_1-rmse:7.18457\n",
      "[92]\tvalidation_0-rmse:6.19334\tvalidation_1-rmse:7.18672\n",
      "[93]\tvalidation_0-rmse:6.19055\tvalidation_1-rmse:7.18557\n",
      "[94]\tvalidation_0-rmse:6.18723\tvalidation_1-rmse:7.18534\n",
      "[95]\tvalidation_0-rmse:6.18077\tvalidation_1-rmse:7.18142\n",
      "[96]\tvalidation_0-rmse:6.17565\tvalidation_1-rmse:7.17944\n",
      "[97]\tvalidation_0-rmse:6.17327\tvalidation_1-rmse:7.17889\n",
      "[98]\tvalidation_0-rmse:6.16924\tvalidation_1-rmse:7.17725\n",
      "[99]\tvalidation_0-rmse:6.16585\tvalidation_1-rmse:7.17856\n",
      "[100]\tvalidation_0-rmse:6.16378\tvalidation_1-rmse:7.17761\n",
      "[101]\tvalidation_0-rmse:6.16087\tvalidation_1-rmse:7.1777\n",
      "[102]\tvalidation_0-rmse:6.15595\tvalidation_1-rmse:7.17572\n",
      "[103]\tvalidation_0-rmse:6.15252\tvalidation_1-rmse:7.17392\n",
      "[104]\tvalidation_0-rmse:6.14763\tvalidation_1-rmse:7.17325\n",
      "[105]\tvalidation_0-rmse:6.14478\tvalidation_1-rmse:7.17294\n",
      "[106]\tvalidation_0-rmse:6.14064\tvalidation_1-rmse:7.17289\n",
      "[107]\tvalidation_0-rmse:6.1366\tvalidation_1-rmse:7.1734\n",
      "[108]\tvalidation_0-rmse:6.13425\tvalidation_1-rmse:7.17403\n",
      "[109]\tvalidation_0-rmse:6.13092\tvalidation_1-rmse:7.17411\n",
      "[110]\tvalidation_0-rmse:6.12694\tvalidation_1-rmse:7.17393\n",
      "[111]\tvalidation_0-rmse:6.12555\tvalidation_1-rmse:7.17473\n",
      "[112]\tvalidation_0-rmse:6.12318\tvalidation_1-rmse:7.17595\n",
      "[113]\tvalidation_0-rmse:6.11894\tvalidation_1-rmse:7.17469\n",
      "[114]\tvalidation_0-rmse:6.11474\tvalidation_1-rmse:7.17468\n",
      "[115]\tvalidation_0-rmse:6.1106\tvalidation_1-rmse:7.17511\n",
      "[116]\tvalidation_0-rmse:6.10391\tvalidation_1-rmse:7.17108\n",
      "[117]\tvalidation_0-rmse:6.10142\tvalidation_1-rmse:7.16971\n",
      "[118]\tvalidation_0-rmse:6.09772\tvalidation_1-rmse:7.17224\n",
      "[119]\tvalidation_0-rmse:6.09538\tvalidation_1-rmse:7.17229\n",
      "[120]\tvalidation_0-rmse:6.09206\tvalidation_1-rmse:7.17324\n",
      "[121]\tvalidation_0-rmse:6.08924\tvalidation_1-rmse:7.172\n",
      "[122]\tvalidation_0-rmse:6.08369\tvalidation_1-rmse:7.17221\n",
      "[123]\tvalidation_0-rmse:6.08102\tvalidation_1-rmse:7.17171\n",
      "[124]\tvalidation_0-rmse:6.07639\tvalidation_1-rmse:7.16886\n",
      "[125]\tvalidation_0-rmse:6.07346\tvalidation_1-rmse:7.16864\n",
      "[126]\tvalidation_0-rmse:6.0654\tvalidation_1-rmse:7.16372\n",
      "[127]\tvalidation_0-rmse:6.06231\tvalidation_1-rmse:7.16269\n",
      "[128]\tvalidation_0-rmse:6.06038\tvalidation_1-rmse:7.16135\n",
      "[129]\tvalidation_0-rmse:6.0566\tvalidation_1-rmse:7.16176\n",
      "[130]\tvalidation_0-rmse:6.05362\tvalidation_1-rmse:7.16133\n",
      "[131]\tvalidation_0-rmse:6.05179\tvalidation_1-rmse:7.16266\n",
      "[132]\tvalidation_0-rmse:6.05011\tvalidation_1-rmse:7.16328\n",
      "[133]\tvalidation_0-rmse:6.04873\tvalidation_1-rmse:7.16208\n",
      "[134]\tvalidation_0-rmse:6.04552\tvalidation_1-rmse:7.15984\n",
      "[135]\tvalidation_0-rmse:6.04178\tvalidation_1-rmse:7.15886\n",
      "[136]\tvalidation_0-rmse:6.03901\tvalidation_1-rmse:7.15729\n",
      "[137]\tvalidation_0-rmse:6.03568\tvalidation_1-rmse:7.15756\n",
      "[138]\tvalidation_0-rmse:6.03455\tvalidation_1-rmse:7.15878\n",
      "[139]\tvalidation_0-rmse:6.02977\tvalidation_1-rmse:7.15623\n",
      "[140]\tvalidation_0-rmse:6.02671\tvalidation_1-rmse:7.15659\n",
      "[141]\tvalidation_0-rmse:6.02514\tvalidation_1-rmse:7.15612\n"
     ]
    },
    {
     "name": "stdout",
     "output_type": "stream",
     "text": [
      "[142]\tvalidation_0-rmse:6.02283\tvalidation_1-rmse:7.15547\n",
      "[143]\tvalidation_0-rmse:6.0186\tvalidation_1-rmse:7.15702\n",
      "[144]\tvalidation_0-rmse:6.0133\tvalidation_1-rmse:7.15358\n",
      "[145]\tvalidation_0-rmse:6.00906\tvalidation_1-rmse:7.15266\n",
      "[146]\tvalidation_0-rmse:6.0064\tvalidation_1-rmse:7.15538\n",
      "[147]\tvalidation_0-rmse:6.00531\tvalidation_1-rmse:7.15505\n",
      "[148]\tvalidation_0-rmse:6.00378\tvalidation_1-rmse:7.1553\n",
      "[149]\tvalidation_0-rmse:6.00142\tvalidation_1-rmse:7.15606\n"
     ]
    },
    {
     "data": {
      "text/plain": [
       "XGBRegressor(base_score=0.5, booster='gbtree', colsample_bylevel=1,\n",
       "             colsample_bynode=1, colsample_bytree=1, eta=0.1, gamma=0,\n",
       "             importance_type='gain', learning_rate=0.1, max_delta_step=0,\n",
       "             max_depth=5, min_child_weight=1, missing=None, n_estimators=150,\n",
       "             n_jobs=1, nthread=None, num_round=150, objective='reg:linear',\n",
       "             random_state=0, reg_alpha=0, reg_lambda=1, scale_pos_weight=1,\n",
       "             seed=None, silent=None, subsample=0.7, verbosity=1)"
      ]
     },
     "execution_count": 48,
     "metadata": {},
     "output_type": "execute_result"
    }
   ],
   "source": [
    "import xgboost as xgb\n",
    "regressor=xgb.XGBRegressor(max_depth=5, eta=0.1, subsample=0.7, num_round=150, n_estimators=150)\n",
    "regressor.fit(X_train,y_train, eval_set=[(X_train,y_train), (X_valid,y_valid)]) "
   ]
  },
  {
   "cell_type": "code",
   "execution_count": 50,
   "metadata": {},
   "outputs": [],
   "source": [
    "eval_result=regressor.evals_result()"
   ]
  },
  {
   "cell_type": "code",
   "execution_count": 51,
   "metadata": {},
   "outputs": [],
   "source": [
    "t_round=range(len(eval_result[\"validation_0\"][\"rmse\"]))"
   ]
  },
  {
   "cell_type": "code",
   "execution_count": 52,
   "metadata": {},
   "outputs": [],
   "source": [
    "import matplotlib.pyplot as plt\n",
    "%matplotlib inline"
   ]
  },
  {
   "cell_type": "code",
   "execution_count": 54,
   "metadata": {},
   "outputs": [
    {
     "data": {
      "image/png": "[encoded data removed]",
      "text/plain": [
       "<Figure size 432x288 with 1 Axes>"
      ]
     },
     "metadata": {
      "needs_background": "light"
     },
     "output_type": "display_data"
    }
   ],
   "source": [
    "plt.scatter(t_round, eval_result[\"validation_0\"][\"rmse\"], label=\" Training Error\")\n",
    "plt.scatter(t_round, eval_result[\"validation_1\"][\"rmse\"], label=\" Validation Error\")\n",
    "plt.grid()\n",
    "plt.xlabel(\"Iteration\")\n",
    "plt.ylabel(\"RMSE\")\n",
    "plt.title(\"  Taining vs Validation Error\")\n",
    "plt.legend()\n",
    "plt.show()\n",
    "\n"
   ]
  },
  {
   "cell_type": "code",
   "execution_count": 55,
   "metadata": {},
   "outputs": [],
   "source": [
    "import xgboost as xgb"
   ]
  },
  {
   "cell_type": "code",
   "execution_count": 56,
   "metadata": {},
   "outputs": [
    {
     "data": {
      "text/plain": [
       "<matplotlib.axes._subplots.AxesSubplot at 0x118ba4bb0>"
      ]
     },
     "execution_count": 56,
     "metadata": {},
     "output_type": "execute_result"
    },
    {
     "data": {
      "image/png": "[encoded data removed]",
      "text/plain": [
       "<Figure size 432x288 with 1 Axes>"
      ]
     },
     "metadata": {
      "needs_background": "light"
     },
     "output_type": "display_data"
    }
   ],
   "source": [
    "xgb.plot_importance(regressor)"
   ]
  },
  {
   "cell_type": "code",
   "execution_count": null,
   "metadata": {},
   "outputs": [],
   "source": []
  },
  {
   "cell_type": "code",
   "execution_count": null,
   "metadata": {},
   "outputs": [],
   "source": []
  },
  {
   "cell_type": "code",
   "execution_count": null,
   "metadata": {},
   "outputs": [],
   "source": []
  },
  {
   "cell_type": "code",
   "execution_count": null,
   "metadata": {},
   "outputs": [],
   "source": []
  },
  {
   "cell_type": "code",
   "execution_count": null,
   "metadata": {},
   "outputs": [],
   "source": []
  },
  {
   "cell_type": "code",
   "execution_count": null,
   "metadata": {},
   "outputs": [],
   "source": []
  },
  {
   "cell_type": "code",
   "execution_count": null,
   "metadata": {},
   "outputs": [],
   "source": []
  },
  {
   "cell_type": "code",
   "execution_count": null,
   "metadata": {},
   "outputs": [],
   "source": []
  },
  {
   "cell_type": "code",
   "execution_count": null,
   "metadata": {},
   "outputs": [],
   "source": []
  },
  {
   "cell_type": "code",
   "execution_count": null,
   "metadata": {},
   "outputs": [],
   "source": []
  },
  {
   "cell_type": "code",
   "execution_count": null,
   "metadata": {},
   "outputs": [],
   "source": []
  },
  {
   "cell_type": "code",
   "execution_count": null,
   "metadata": {},
   "outputs": [],
   "source": []
  },
  {
   "cell_type": "code",
   "execution_count": null,
   "metadata": {},
   "outputs": [],
   "source": []
  },
  {
   "cell_type": "code",
   "execution_count": 153,
   "metadata": {},
   "outputs": [
    {
     "data": {
      "text/plain": [
       "0.855515420950264"
      ]
     },
     "execution_count": 153,
     "metadata": {},
     "output_type": "execute_result"
    }
   ],
   "source": [
    "clf.score(X_test, y_test)"
   ]
  },
  {
   "cell_type": "code",
   "execution_count": 154,
   "metadata": {},
   "outputs": [
    {
     "data": {
      "text/html": [
       "<div>\n",
       "<style scoped>\n",
       "    .dataframe tbody tr th:only-of-type {\n",
       "        vertical-align: middle;\n",
       "    }\n",
       "\n",
       "    .dataframe tbody tr th {\n",
       "        vertical-align: top;\n",
       "    }\n",
       "\n",
       "    .dataframe thead th {\n",
       "        text-align: right;\n",
       "    }\n",
       "</style>\n",
       "<table border=\"1\" class=\"dataframe\">\n",
       "  <thead>\n",
       "    <tr style=\"text-align: right;\">\n",
       "      <th>col_0</th>\n",
       "      <th>0-60</th>\n",
       "      <th>60-70</th>\n",
       "      <th>70-80</th>\n",
       "    </tr>\n",
       "    <tr>\n",
       "      <th>NAT_MARK</th>\n",
       "      <th></th>\n",
       "      <th></th>\n",
       "      <th></th>\n",
       "    </tr>\n",
       "  </thead>\n",
       "  <tbody>\n",
       "    <tr>\n",
       "      <th>0-60</th>\n",
       "      <td>2716</td>\n",
       "      <td>155</td>\n",
       "      <td>3</td>\n",
       "    </tr>\n",
       "    <tr>\n",
       "      <th>60-70</th>\n",
       "      <td>260</td>\n",
       "      <td>341</td>\n",
       "      <td>21</td>\n",
       "    </tr>\n",
       "    <tr>\n",
       "      <th>70-80</th>\n",
       "      <td>8</td>\n",
       "      <td>67</td>\n",
       "      <td>22</td>\n",
       "    </tr>\n",
       "    <tr>\n",
       "      <th>80-90</th>\n",
       "      <td>1</td>\n",
       "      <td>2</td>\n",
       "      <td>3</td>\n",
       "    </tr>\n",
       "  </tbody>\n",
       "</table>\n",
       "</div>"
      ],
      "text/plain": [
       "col_0     0-60  60-70  70-80\n",
       "NAT_MARK                    \n",
       "0-60      2716    155      3\n",
       "60-70      260    341     21\n",
       "70-80        8     67     22\n",
       "80-90        1      2      3"
      ]
     },
     "execution_count": 154,
     "metadata": {},
     "output_type": "execute_result"
    }
   ],
   "source": [
    "pd.crosstab(y_test, clf.predict(X_test))"
   ]
  },
  {
   "cell_type": "code",
   "execution_count": 162,
   "metadata": {},
   "outputs": [],
   "source": [
    "scores=cross_val_score( clf, X, y,cv=5,  scoring=\"recall_macro\")"
   ]
  },
  {
   "cell_type": "code",
   "execution_count": 163,
   "metadata": {},
   "outputs": [
    {
     "name": "stdout",
     "output_type": "stream",
     "text": [
      "CV Accuracy   0.606 +/-  0.053107044623640326\n"
     ]
    }
   ],
   "source": [
    "print(f'CV Accuracy   {np.mean(scores):.3f} +/-  {np.std(scores)}')"
   ]
  },
  {
   "cell_type": "code",
   "execution_count": 155,
   "metadata": {},
   "outputs": [
    {
     "data": {
      "text/plain": [
       "Pipeline(memory=None,\n",
       "         steps=[('columntransformer',\n",
       "                 ColumnTransformer(n_jobs=None, remainder='passthrough',\n",
       "                                   sparse_threshold=0.3,\n",
       "                                   transformer_weights=None,\n",
       "                                   transformers=[('standardscaler',\n",
       "                                                  StandardScaler(copy=True,\n",
       "                                                                 with_mean=True,\n",
       "                                                                 with_std=True),\n",
       "                                                  ['ACHIEVEMENTS1', 'MIDTERM1',\n",
       "                                                   'FINAL1']),\n",
       "                                                 ('onehotencoder',\n",
       "                                                  OneHotEncoder(categories='auto',\n",
       "                                                                drop=None,\n",
       "                                                                dtype=<class 'num...\n",
       "                               colsample_bylevel=1, colsample_bynode=1,\n",
       "                               colsample_bytree=0.5589969920043588, gamma=0,\n",
       "                               learning_rate=0.5099169470416985,\n",
       "                               max_delta_step=0, max_depth=5,\n",
       "                               min_child_weight=2, missing=None,\n",
       "                               n_estimators=180, n_jobs=1, nthread=-1,\n",
       "                               objective='multi:softprob', random_state=0,\n",
       "                               reg_alpha=0, reg_lambda=1, scale_pos_weight=1,\n",
       "                               scale_weight=61, seed=42, silent=True,\n",
       "                               subsample=1, verbosity=1))],\n",
       "         verbose=False)"
      ]
     },
     "execution_count": 155,
     "metadata": {},
     "output_type": "execute_result"
    }
   ],
   "source": [
    "X_new=X.sample(5, random_state=42)\n",
    "clf.fit(X, y )"
   ]
  },
  {
   "cell_type": "code",
   "execution_count": 163,
   "metadata": {},
   "outputs": [
    {
     "data": {
      "text/plain": [
       "array(['0-60', '0-60', '0-60', ..., '0-60', '60-70', '0-60'], dtype=object)"
      ]
     },
     "execution_count": 163,
     "metadata": {},
     "output_type": "execute_result"
    }
   ],
   "source": [
    "y_pred=clf.predict(X_test)\n",
    "y_pred"
   ]
  },
  {
   "cell_type": "code",
   "execution_count": null,
   "metadata": {},
   "outputs": [],
   "source": [
    "cl=[\"0-60\",\"60-70\" \"70-80\", \"80-90\",\"90-100\"]\n",
    "np.array([ cl[x] for x in y_pred])"
   ]
  },
  {
   "cell_type": "code",
   "execution_count": 164,
   "metadata": {},
   "outputs": [],
   "source": [
    "from sklearn.metrics import confusion_matrix\n",
    "cfm= pd.DataFrame(confusion_matrix(y_test, y_pred))\n",
    "cfm.index.name=\"Actual\"\n",
    "cfm.columns.name=\"Predicted\""
   ]
  },
  {
   "cell_type": "code",
   "execution_count": 165,
   "metadata": {
    "scrolled": true
   },
   "outputs": [
    {
     "data": {
      "text/plain": [
       "<matplotlib.axes._subplots.AxesSubplot at 0x124073790>"
      ]
     },
     "execution_count": 165,
     "metadata": {},
     "output_type": "execute_result"
    },
    {
     "data": {
      "image/png": "[encoded data removed]",
      "text/plain": [
       "<Figure size 720x504 with 2 Axes>"
      ]
     },
     "metadata": {
      "needs_background": "light"
     },
     "output_type": "display_data"
    }
   ],
   "source": [
    "import seaborn  as sns\n",
    "import matplotlib.pyplot as plt\n",
    "%matplotlib  inline\n",
    "plt.figure(figsize=(10,7))\n",
    "sns.heatmap(cfm , cmap=\"Blues\", annot=True, annot_kws={\"size\":16}, fmt=\"g\")"
   ]
  },
  {
   "cell_type": "code",
   "execution_count": 164,
   "metadata": {},
   "outputs": [],
   "source": [
    "from sklearn.model_selection import learning_curve"
   ]
  },
  {
   "cell_type": "code",
   "execution_count": 165,
   "metadata": {},
   "outputs": [],
   "source": [
    "train_sizes, train_scores, test_scores= learning_curve(pipe, X_train, y_train, train_sizes=np.linspace(0.1, 1, 10), \n",
    "                                                      cv=10, n_jobs=-1)"
   ]
  },
  {
   "cell_type": "code",
   "execution_count": null,
   "metadata": {},
   "outputs": [],
   "source": [
    "plt.plot(train_sizes, np.mean(train_scores, axis=1), color=\"blue\", marker='o', markersize=5, label='Training accuracy')\n",
    "plt.fill_between(train_sizes, np.mean(train_scores, axis=1) +np.std(train_scores, axis=1),np.mean(train_scores, axis=1)-  np.std(train_scores,axis=1), alpha=0.15, color=\"green\")\n",
    "\n",
    "\n",
    "plt.plot(train_sizes, np.mean(test_scores, axis=1), color=\"green\", marker=\"s\", linestyle=\"--\", markersize=5, label='Validation accuracy')\n",
    "plt.fill_between(train_sizes, np.mean(test_scores, axis=1) +np.std(test_scores, axis=1),np.mean(test_scores, axis=1)-  np.std(test_scores,axis=1), alpha=.15, color=\"green\")\n",
    "\n",
    "plt.grid()\n",
    "plt.xlabel('Number of training examples')\n",
    "plt.ylabel(\"Accuracy\")\n",
    "plt.legend(loc=\"best\")\n",
    "# plt.ylim([0.8, 1.03])\n",
    "plt.show()"
   ]
  },
  {
   "cell_type": "code",
   "execution_count": null,
   "metadata": {},
   "outputs": [],
   "source": [
    "from sklearn.model_selection import validation_curve\n",
    "from sklearn.linear_model import LogisticRegression\n",
    "param_range=[0.001, 0.01, 0.1,0.2, 0.6, 0.8,  1]\n",
    "train_scores, test_scores= validation_curve(pipe, X_train, y_train, param_name='xgbclassifier__learning_rate',\n",
    "                                            param_range=param_range, cv=10)\n",
    "                                                   \n",
    "\n",
    "plt.plot(param_range, np.mean(train_scores, axis=1), color=\"blue\", marker='o', markersize=5, label='Training accuracy')\n",
    "plt.fill_between(param_range, np.mean(train_scores, axis=1) +np.std(train_scores, axis=1),np.mean(train_scores, axis=1)-  np.std(train_scores,axis=1), alpha=0.15, color=\"green\")\n",
    "\n",
    "\n",
    "plt.plot(param_range, np.mean(test_scores, axis=1), color=\"green\", marker=\"s\", linestyle=\"--\", markersize=5, label='Validation accuracy')\n",
    "plt.fill_between(param_range, np.mean(test_scores, axis=1) +np.std(test_scores, axis=1),np.mean(test_scores, axis=1)-  np.std(test_scores,axis=1), alpha=.15, color=\"green\")\n",
    "\n",
    "plt.grid()\n",
    "plt.xscale('log')\n",
    "plt.ylimit=([0.8, 1])\n",
    "plt.show()"
   ]
  },
  {
   "cell_type": "code",
   "execution_count": 178,
   "metadata": {},
   "outputs": [],
   "source": [
    "x = np.linspace(0, 10, 20)\n",
    "y=x**3"
   ]
  },
  {
   "cell_type": "code",
   "execution_count": 198,
   "metadata": {},
   "outputs": [
    {
     "data": {
      "text/plain": [
       "<matplotlib.legend.Legend at 0x12f69a940>"
      ]
     },
     "execution_count": 198,
     "metadata": {},
     "output_type": "execute_result"
    },
    {
     "data": {
      "image/png": "[encoded data removed]",
      "text/plain": [
       "<Figure size 576x576 with 1 Axes>"
      ]
     },
     "metadata": {
      "needs_background": "light"
     },
     "output_type": "display_data"
    }
   ],
   "source": [
    "plt.figure(figsize=(8,8))\n",
    "plt.plot(x,y, \"--r\", label=\"Cubed\")\n",
    "plt.plot(x, x**2, \"D-k\", label=\"squared\")\n",
    "plt.legend()"
   ]
  },
  {
   "cell_type": "code",
   "execution_count": 201,
   "metadata": {},
   "outputs": [
    {
     "data": {
      "text/plain": [
       "<BarContainer object of 4 artists>"
      ]
     },
     "execution_count": 201,
     "metadata": {},
     "output_type": "execute_result"
    },
    {
     "data": {
      "image/png": "[encoded data removed]",
      "text/plain": [
       "<Figure size 432x288 with 1 Axes>"
      ]
     },
     "metadata": {
      "needs_background": "light"
     },
     "output_type": "display_data"
    }
   ],
   "source": [
    "x = ['Shirts', 'Pants','Shorts','Shoes']\n",
    "y = [1000, 1200, 800, 1800]\n",
    "plt.title('Sales Revenue by Item Type')\n",
    "plt.xlabel('Item Type')\n",
    "plt.ylabel('Sales Revenue ($)')\n",
    "plt.bar(x, y)"
   ]
  },
  {
   "cell_type": "code",
   "execution_count": 219,
   "metadata": {},
   "outputs": [
    {
     "data": {
      "image/png": "[encoded data removed]",
      "text/plain": [
       "<Figure size 432x288 with 1 Axes>"
      ]
     },
     "metadata": {
      "needs_background": "light"
     },
     "output_type": "display_data"
    }
   ],
   "source": [
    "y = np.random.normal(loc=0, scale=0.1, size=100)\n",
    "plt.boxplot(y)\n",
    "plt.show()"
   ]
  },
  {
   "cell_type": "code",
   "execution_count": 222,
   "metadata": {},
   "outputs": [
    {
     "data": {
      "text/plain": [
       "(0.9883351922035217, 0.5332409739494324)"
      ]
     },
     "execution_count": 222,
     "metadata": {},
     "output_type": "execute_result"
    }
   ],
   "source": [
    "from scipy.stats import shapiro\n",
    "shap_w, shap_p = shapiro(y)\n",
    "shap_w, shap_p"
   ]
  },
  {
   "cell_type": "code",
   "execution_count": 224,
   "metadata": {},
   "outputs": [
    {
     "data": {
      "text/plain": [
       "array([ 1.84985278,  0.59857334, -0.3655068 , -0.32830673, -0.45625589,\n",
       "       -1.46301811, -2.06804379,  1.10111998,  0.53067051,  0.65337857,\n",
       "        1.58216738, -0.67925651, -0.84107592,  0.88786471, -0.30885621,\n",
       "       -1.59341962,  0.82134266, -2.38422976,  0.64571851,  0.55556519,\n",
       "        0.57766206, -0.56996236, -0.00597515,  1.16435065, -0.26369217,\n",
       "        0.4725421 ,  0.54416465,  0.32287113,  0.47121129, -0.54455489,\n",
       "        0.31115413,  0.16904268, -0.27476562, -0.51786687, -0.61808481,\n",
       "       -1.29094958,  1.05440174, -1.07983034,  0.57014901,  0.17254821,\n",
       "       -0.53248268,  0.13444334,  0.9065548 ,  0.18005671,  0.33855   ,\n",
       "       -2.60010946, -0.20293402,  0.79380344, -0.78623995, -0.50492544,\n",
       "        0.68956566,  1.87391332, -1.02743568, -1.73285002, -0.89180849,\n",
       "        0.08293444, -0.73717548,  0.42153779,  0.23147935,  0.37277941,\n",
       "        0.02773516, -1.29767419, -0.01605787, -0.19999461, -0.10620994,\n",
       "       -0.626005  ,  0.6500764 ,  0.46909196,  2.36890505,  0.16215782,\n",
       "        0.46267272, -0.77403499,  2.97297097,  2.36135134, -0.22497676,\n",
       "       -0.443803  ,  1.7306093 , -0.902396  ,  0.00334951, -0.52949901,\n",
       "        0.65863919, -1.64278274, -0.58207153,  1.09087721, -0.98675825,\n",
       "       -0.56016863,  0.89812215,  0.21467379, -1.66733245, -1.45101413,\n",
       "       -0.50963542,  1.68807286, -1.03150807,  0.29363815,  0.35305576,\n",
       "        0.96929384, -0.32227905, -0.00413531, -0.4273141 ,  0.51800065])"
      ]
     },
     "execution_count": 224,
     "metadata": {},
     "output_type": "execute_result"
    }
   ],
   "source": [
    "from scipy.stats import zscore\n",
    "y_z_scores = zscore(y)\n",
    "y_z_scores"
   ]
  },
  {
   "cell_type": "code",
   "execution_count": null,
   "metadata": {},
   "outputs": [],
   "source": []
  },
  {
   "cell_type": "code",
   "execution_count": null,
   "metadata": {},
   "outputs": [],
   "source": []
  },
  {
   "cell_type": "code",
   "execution_count": 120,
   "metadata": {},
   "outputs": [],
   "source": [
    "def plotGraph(x, y1, y2, y1std, y2std, scl, lbl):    \n",
    "    plt.plot(x, \n",
    "             y1, \n",
    "                     color=\"blue\", marker=\"o\", markersize=5, label=\"Training Accuracy\")\n",
    "    plt.fill_between(\n",
    "        x, \n",
    "        y1 +y1std, \n",
    "        y1-y1std, \n",
    "                        color=\"blue\", alpha=0.15)\n",
    "\n",
    "    plt.plot(x, \n",
    "             y2, \n",
    "                     color=\"green\", marker=\"s\",linestyle=\"--\", markersize=5, label=\"Validation Accuracy\")\n",
    "    plt.fill_between(\n",
    "                    x, \n",
    "                    y2 +y2std, \n",
    "                    y2-y2std, \n",
    "                        color=\"green\", alpha=0.15)\n",
    "\n",
    "    plt.grid()\n",
    "    plt.xlabel(lbl) #\" Number of Training Example\")\n",
    "    plt.xscale(scl)\n",
    "    plt.ylabel(\"Accuracy \")\n",
    "    plt.legend(loc=\"lower right\")\n",
    "    plt.ylim([0.8, 1.01])\n",
    "    plt.show()"
   ]
  },
  {
   "cell_type": "markdown",
   "metadata": {},
   "source": [
    "# linear Curve. For LInearRegresssion`"
   ]
  },
  {
   "cell_type": "code",
   "execution_count": 119,
   "metadata": {},
   "outputs": [],
   "source": [
    "from sklearn.model_selection import learning_curve\n",
    "\n",
    "train_size, train_score, test_score =learning_curve(estimator=pipe, \n",
    "                                                    X=X_train, \n",
    "                                                    y=y_train,\n",
    "                                                    train_sizes=np.linspace(0.1, 1, 10 ),\n",
    "                                                    \n",
    "                                                    cv=10 , n_jobs=1)"
   ]
  },
  {
   "cell_type": "code",
   "execution_count": 122,
   "metadata": {},
   "outputs": [],
   "source": [
    "train_mean=np.mean(train_score, axis=1)\n",
    "train_std= np.std (train_score, axis=1)\n",
    "test_mean= np.mean(test_score,  axis=1)\n",
    "test_std=  np.std (test_score,  axis=1)"
   ]
  },
  {
   "cell_type": "code",
   "execution_count": 123,
   "metadata": {},
   "outputs": [
    {
     "data": {
      "image/png": "[encoded data removed]",
      "text/plain": [
       "<Figure size 864x504 with 1 Axes>"
      ]
     },
     "metadata": {
      "needs_background": "light"
     },
     "output_type": "display_data"
    }
   ],
   "source": [
    "import matplotlib.pyplot as plt\n",
    "plt.figure(figsize=(12, 7))\n",
    "plotGraph(train_size, train_mean, test_mean, \n",
    "          train_std, test_std,\"linear\", \"Number of Training Example\")"
   ]
  },
  {
   "cell_type": "code",
   "execution_count": null,
   "metadata": {},
   "outputs": [],
   "source": []
  }
 ],
 "metadata": {
  "kernelspec": {
   "display_name": "Python 3",
   "language": "python",
   "name": "python3"
  },
  "language_info": {
   "codemirror_mode": {
    "name": "ipython",
    "version": 3
   },
   "file_extension": ".py",
   "mimetype": "text/x-python",
   "name": "python",
   "nbconvert_exporter": "python",
   "pygments_lexer": "ipython3",
   "version": "3.8.2"
  }
 },
 "nbformat": 4,
 "nbformat_minor": 2
}
