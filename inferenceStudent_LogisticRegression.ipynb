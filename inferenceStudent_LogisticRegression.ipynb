{
 "cells": [
  {
   "cell_type": "code",
   "execution_count": null,
   "metadata": {},
   "outputs": [],
   "source": [
    "!pip install --user xgboost"
   ]
  },
  {
   "cell_type": "code",
   "execution_count": null,
   "metadata": {},
   "outputs": [],
   "source": [
    "!pwd"
   ]
  },
  {
   "cell_type": "code",
   "execution_count": 1,
   "metadata": {},
   "outputs": [],
   "source": [
    "import pandas as pd\n",
    "import numpy as np\n",
    "from sklearn.preprocessing import LabelEncoder\n",
    "from sklearn.compose import make_column_selector\n",
    "df_infer=pd.read_csv(\"data/GD_Part2_clean.csv\")"
   ]
  },
  {
   "cell_type": "code",
   "execution_count": 2,
   "metadata": {},
   "outputs": [],
   "source": [
    "from sklearn.preprocessing import StandardScaler, OneHotEncoder, LabelEncoder\n",
    "from sklearn.compose import make_column_transformer, ColumnTransformer, TransformedTargetRegressor\n",
    "from sklearn.pipeline import make_pipeline\n",
    "from sklearn.linear_model import SGDClassifier\n",
    "from sklearn.model_selection import GridSearchCV, RandomizedSearchCV\n",
    "from sklearn.feature_extraction.text import CountVectorizer\n",
    "from xgboost import XGBClassifier, XGBRegressor"
   ]
  },
  {
   "cell_type": "code",
   "execution_count": 3,
   "metadata": {},
   "outputs": [
    {
     "data": {
      "text/html": [
       "<div>\n",
       "<style scoped>\n",
       "    .dataframe tbody tr th:only-of-type {\n",
       "        vertical-align: middle;\n",
       "    }\n",
       "\n",
       "    .dataframe tbody tr th {\n",
       "        vertical-align: top;\n",
       "    }\n",
       "\n",
       "    .dataframe thead th {\n",
       "        text-align: right;\n",
       "    }\n",
       "</style>\n",
       "<table border=\"1\" class=\"dataframe\">\n",
       "  <thead>\n",
       "    <tr style=\"text-align: right;\">\n",
       "      <th></th>\n",
       "      <th>Unnamed: 0</th>\n",
       "      <th>CPR_NO</th>\n",
       "      <th>SCH_NM</th>\n",
       "      <th>PROV_NM</th>\n",
       "      <th>SUBM</th>\n",
       "      <th>Teacher_Gender</th>\n",
       "      <th>ACHIEVEMENTS1</th>\n",
       "      <th>ACHIEVEMENTS2</th>\n",
       "      <th>MIDTERM1</th>\n",
       "      <th>MIDTERM2</th>\n",
       "      <th>FINAL1</th>\n",
       "      <th>FINAL2</th>\n",
       "      <th>TOTAL1</th>\n",
       "      <th>TOTAL2</th>\n",
       "      <th>D_MARK</th>\n",
       "      <th>NAT_MARK</th>\n",
       "      <th>GPA</th>\n",
       "    </tr>\n",
       "  </thead>\n",
       "  <tbody>\n",
       "    <tr>\n",
       "      <th>0</th>\n",
       "      <td>0</td>\n",
       "      <td>70913390</td>\n",
       "      <td>المعهد الديني الجعفري</td>\n",
       "      <td>Cap</td>\n",
       "      <td>Science</td>\n",
       "      <td>M</td>\n",
       "      <td>28.0</td>\n",
       "      <td>30.0</td>\n",
       "      <td>17.0</td>\n",
       "      <td>17.0</td>\n",
       "      <td>45.0</td>\n",
       "      <td>33.0</td>\n",
       "      <td>90.0</td>\n",
       "      <td>80</td>\n",
       "      <td>85</td>\n",
       "      <td>53.7</td>\n",
       "      <td>92.9</td>\n",
       "    </tr>\n",
       "    <tr>\n",
       "      <th>1</th>\n",
       "      <td>1</td>\n",
       "      <td>71105956</td>\n",
       "      <td>المعهد الديني الجعفري</td>\n",
       "      <td>Cap</td>\n",
       "      <td>Science</td>\n",
       "      <td>M</td>\n",
       "      <td>27.0</td>\n",
       "      <td>29.0</td>\n",
       "      <td>14.0</td>\n",
       "      <td>16.0</td>\n",
       "      <td>41.5</td>\n",
       "      <td>37.0</td>\n",
       "      <td>83.0</td>\n",
       "      <td>82</td>\n",
       "      <td>83</td>\n",
       "      <td>49.7</td>\n",
       "      <td>89.5</td>\n",
       "    </tr>\n",
       "    <tr>\n",
       "      <th>2</th>\n",
       "      <td>2</td>\n",
       "      <td>70712190</td>\n",
       "      <td>المعهد الديني الجعفري</td>\n",
       "      <td>Cap</td>\n",
       "      <td>Science</td>\n",
       "      <td>M</td>\n",
       "      <td>27.0</td>\n",
       "      <td>27.0</td>\n",
       "      <td>13.0</td>\n",
       "      <td>15.0</td>\n",
       "      <td>27.5</td>\n",
       "      <td>37.0</td>\n",
       "      <td>68.0</td>\n",
       "      <td>79</td>\n",
       "      <td>74</td>\n",
       "      <td>52.1</td>\n",
       "      <td>86.2</td>\n",
       "    </tr>\n",
       "    <tr>\n",
       "      <th>3</th>\n",
       "      <td>3</td>\n",
       "      <td>70207496</td>\n",
       "      <td>المعهد الديني الجعفري</td>\n",
       "      <td>Cap</td>\n",
       "      <td>Science</td>\n",
       "      <td>M</td>\n",
       "      <td>26.0</td>\n",
       "      <td>24.5</td>\n",
       "      <td>15.0</td>\n",
       "      <td>12.0</td>\n",
       "      <td>44.0</td>\n",
       "      <td>32.5</td>\n",
       "      <td>85.0</td>\n",
       "      <td>69</td>\n",
       "      <td>77</td>\n",
       "      <td>52.9</td>\n",
       "      <td>89.9</td>\n",
       "    </tr>\n",
       "    <tr>\n",
       "      <th>4</th>\n",
       "      <td>4</td>\n",
       "      <td>70507953</td>\n",
       "      <td>المعهد الديني الجعفري</td>\n",
       "      <td>Cap</td>\n",
       "      <td>Science</td>\n",
       "      <td>M</td>\n",
       "      <td>25.0</td>\n",
       "      <td>28.0</td>\n",
       "      <td>14.0</td>\n",
       "      <td>15.0</td>\n",
       "      <td>31.5</td>\n",
       "      <td>37.0</td>\n",
       "      <td>71.0</td>\n",
       "      <td>80</td>\n",
       "      <td>76</td>\n",
       "      <td>52.1</td>\n",
       "      <td>86.2</td>\n",
       "    </tr>\n",
       "  </tbody>\n",
       "</table>\n",
       "</div>"
      ],
      "text/plain": [
       "   Unnamed: 0    CPR_NO                 SCH_NM PROV_NM     SUBM  \\\n",
       "0           0  70913390  المعهد الديني الجعفري     Cap  Science   \n",
       "1           1  71105956  المعهد الديني الجعفري     Cap  Science   \n",
       "2           2  70712190  المعهد الديني الجعفري     Cap  Science   \n",
       "3           3  70207496  المعهد الديني الجعفري     Cap  Science   \n",
       "4           4  70507953  المعهد الديني الجعفري     Cap  Science   \n",
       "\n",
       "  Teacher_Gender  ACHIEVEMENTS1  ACHIEVEMENTS2  MIDTERM1  MIDTERM2  FINAL1  \\\n",
       "0              M           28.0           30.0      17.0      17.0    45.0   \n",
       "1              M           27.0           29.0      14.0      16.0    41.5   \n",
       "2              M           27.0           27.0      13.0      15.0    27.5   \n",
       "3              M           26.0           24.5      15.0      12.0    44.0   \n",
       "4              M           25.0           28.0      14.0      15.0    31.5   \n",
       "\n",
       "   FINAL2  TOTAL1  TOTAL2  D_MARK  NAT_MARK   GPA  \n",
       "0    33.0    90.0      80      85      53.7  92.9  \n",
       "1    37.0    83.0      82      83      49.7  89.5  \n",
       "2    37.0    68.0      79      74      52.1  86.2  \n",
       "3    32.5    85.0      69      77      52.9  89.9  \n",
       "4    37.0    71.0      80      76      52.1  86.2  "
      ]
     },
     "execution_count": 3,
     "metadata": {},
     "output_type": "execute_result"
    }
   ],
   "source": [
    "df_infer.head()"
   ]
  },
  {
   "cell_type": "code",
   "execution_count": 5,
   "metadata": {},
   "outputs": [],
   "source": [
    "df_infer.set_index('CPR_NO', inplace=True)\n",
    "# df_infer.index=df.CPR_NO\n",
    "# df_infer.drop([\"Unnamed: 0\" ], axis=1, inplace=True)"
   ]
  },
  {
   "cell_type": "code",
   "execution_count": 6,
   "metadata": {},
   "outputs": [
    {
     "data": {
      "text/plain": [
       "99"
      ]
     },
     "execution_count": 6,
     "metadata": {},
     "output_type": "execute_result"
    }
   ],
   "source": [
    "df_infer.SCH_NM.nunique()"
   ]
  },
  {
   "cell_type": "code",
   "execution_count": 7,
   "metadata": {},
   "outputs": [],
   "source": [
    "df_infer.drop(['TOTAL1','ACHIEVEMENTS2','MIDTERM2', 'FINAL2', 'TOTAL2', 'D_MARK', 'Unnamed: 0', \"GPA\"], axis=1, inplace=True)\n",
    "# y=df_infer['NAT_class']"
   ]
  },
  {
   "cell_type": "code",
   "execution_count": 8,
   "metadata": {},
   "outputs": [
    {
     "data": {
      "text/plain": [
       "Index(['SCH_NM', 'PROV_NM', 'SUBM', 'Teacher_Gender', 'ACHIEVEMENTS1',\n",
       "       'MIDTERM1', 'FINAL1', 'NAT_MARK'],\n",
       "      dtype='object')"
      ]
     },
     "execution_count": 8,
     "metadata": {},
     "output_type": "execute_result"
    }
   ],
   "source": [
    "df_infer.keys()"
   ]
  },
  {
   "cell_type": "code",
   "execution_count": 9,
   "metadata": {},
   "outputs": [
    {
     "data": {
      "text/html": [
       "<div>\n",
       "<style scoped>\n",
       "    .dataframe tbody tr th:only-of-type {\n",
       "        vertical-align: middle;\n",
       "    }\n",
       "\n",
       "    .dataframe tbody tr th {\n",
       "        vertical-align: top;\n",
       "    }\n",
       "\n",
       "    .dataframe thead th {\n",
       "        text-align: right;\n",
       "    }\n",
       "</style>\n",
       "<table border=\"1\" class=\"dataframe\">\n",
       "  <thead>\n",
       "    <tr style=\"text-align: right;\">\n",
       "      <th></th>\n",
       "      <th>SCH_NM</th>\n",
       "      <th>PROV_NM</th>\n",
       "      <th>SUBM</th>\n",
       "      <th>Teacher_Gender</th>\n",
       "      <th>ACHIEVEMENTS1</th>\n",
       "      <th>MIDTERM1</th>\n",
       "      <th>FINAL1</th>\n",
       "      <th>NAT_MARK</th>\n",
       "    </tr>\n",
       "    <tr>\n",
       "      <th>CPR_NO</th>\n",
       "      <th></th>\n",
       "      <th></th>\n",
       "      <th></th>\n",
       "      <th></th>\n",
       "      <th></th>\n",
       "      <th></th>\n",
       "      <th></th>\n",
       "      <th></th>\n",
       "    </tr>\n",
       "  </thead>\n",
       "  <tbody>\n",
       "    <tr>\n",
       "      <th>70711321</th>\n",
       "      <td>مدرسة أحمد الفاتح الابتدائية الاعدادية للبنين</td>\n",
       "      <td>South</td>\n",
       "      <td>Science</td>\n",
       "      <td>M</td>\n",
       "      <td>NaN</td>\n",
       "      <td>NaN</td>\n",
       "      <td>NaN</td>\n",
       "      <td>45.2</td>\n",
       "    </tr>\n",
       "    <tr>\n",
       "      <th>60820420</th>\n",
       "      <td>مدرسة الرفاع الشرقي الابتدائية للبنات</td>\n",
       "      <td>South</td>\n",
       "      <td>Science</td>\n",
       "      <td>F</td>\n",
       "      <td>NaN</td>\n",
       "      <td>NaN</td>\n",
       "      <td>NaN</td>\n",
       "      <td>41.1</td>\n",
       "    </tr>\n",
       "    <tr>\n",
       "      <th>70613516</th>\n",
       "      <td>مدرسة الرفاع الشرقي الابتدائية للبنات</td>\n",
       "      <td>South</td>\n",
       "      <td>Science</td>\n",
       "      <td>F</td>\n",
       "      <td>NaN</td>\n",
       "      <td>NaN</td>\n",
       "      <td>NaN</td>\n",
       "      <td>37.7</td>\n",
       "    </tr>\n",
       "    <tr>\n",
       "      <th>60820438</th>\n",
       "      <td>مدرسة الرفاع الشرقي الابتدائية للبنات</td>\n",
       "      <td>South</td>\n",
       "      <td>Science</td>\n",
       "      <td>F</td>\n",
       "      <td>NaN</td>\n",
       "      <td>NaN</td>\n",
       "      <td>NaN</td>\n",
       "      <td>59.8</td>\n",
       "    </tr>\n",
       "    <tr>\n",
       "      <th>70800898</th>\n",
       "      <td>مدرسة الفارابي الإعدادية للبنين</td>\n",
       "      <td>North</td>\n",
       "      <td>Science</td>\n",
       "      <td>M</td>\n",
       "      <td>NaN</td>\n",
       "      <td>NaN</td>\n",
       "      <td>82.0</td>\n",
       "      <td>36.5</td>\n",
       "    </tr>\n",
       "    <tr>\n",
       "      <th>70116075</th>\n",
       "      <td>مدرسة المستقبل الابتدائية للبنات</td>\n",
       "      <td>South</td>\n",
       "      <td>Science</td>\n",
       "      <td>F</td>\n",
       "      <td>NaN</td>\n",
       "      <td>NaN</td>\n",
       "      <td>NaN</td>\n",
       "      <td>44.2</td>\n",
       "    </tr>\n",
       "    <tr>\n",
       "      <th>71001093</th>\n",
       "      <td>مدرسة رقية الابتدائية للبنات</td>\n",
       "      <td>Muharaq</td>\n",
       "      <td>Science</td>\n",
       "      <td>F</td>\n",
       "      <td>NaN</td>\n",
       "      <td>NaN</td>\n",
       "      <td>NaN</td>\n",
       "      <td>63.4</td>\n",
       "    </tr>\n",
       "    <tr>\n",
       "      <th>70922870</th>\n",
       "      <td>مدرسة سمية الابتدائية للبنات</td>\n",
       "      <td>Cap</td>\n",
       "      <td>Science</td>\n",
       "      <td>F</td>\n",
       "      <td>NaN</td>\n",
       "      <td>NaN</td>\n",
       "      <td>NaN</td>\n",
       "      <td>46.1</td>\n",
       "    </tr>\n",
       "    <tr>\n",
       "      <th>70405786</th>\n",
       "      <td>مدرسة عراد الابتدائية الإعدادية للبنين</td>\n",
       "      <td>Muharaq</td>\n",
       "      <td>Science</td>\n",
       "      <td>M</td>\n",
       "      <td>NaN</td>\n",
       "      <td>NaN</td>\n",
       "      <td>NaN</td>\n",
       "      <td>0.0</td>\n",
       "    </tr>\n",
       "    <tr>\n",
       "      <th>70711321</th>\n",
       "      <td>مدرسة أحمد الفاتح الابتدائية الاعدادية للبنين</td>\n",
       "      <td>South</td>\n",
       "      <td>Math</td>\n",
       "      <td>M</td>\n",
       "      <td>NaN</td>\n",
       "      <td>NaN</td>\n",
       "      <td>NaN</td>\n",
       "      <td>46.9</td>\n",
       "    </tr>\n",
       "    <tr>\n",
       "      <th>60820420</th>\n",
       "      <td>مدرسة الرفاع الشرقي الابتدائية للبنات</td>\n",
       "      <td>South</td>\n",
       "      <td>Math</td>\n",
       "      <td>F</td>\n",
       "      <td>NaN</td>\n",
       "      <td>NaN</td>\n",
       "      <td>NaN</td>\n",
       "      <td>39.0</td>\n",
       "    </tr>\n",
       "    <tr>\n",
       "      <th>70613516</th>\n",
       "      <td>مدرسة الرفاع الشرقي الابتدائية للبنات</td>\n",
       "      <td>South</td>\n",
       "      <td>Math</td>\n",
       "      <td>F</td>\n",
       "      <td>NaN</td>\n",
       "      <td>NaN</td>\n",
       "      <td>NaN</td>\n",
       "      <td>36.8</td>\n",
       "    </tr>\n",
       "    <tr>\n",
       "      <th>60820438</th>\n",
       "      <td>مدرسة الرفاع الشرقي الابتدائية للبنات</td>\n",
       "      <td>South</td>\n",
       "      <td>Math</td>\n",
       "      <td>F</td>\n",
       "      <td>NaN</td>\n",
       "      <td>NaN</td>\n",
       "      <td>NaN</td>\n",
       "      <td>60.4</td>\n",
       "    </tr>\n",
       "    <tr>\n",
       "      <th>70800898</th>\n",
       "      <td>مدرسة الفارابي الإعدادية للبنين</td>\n",
       "      <td>North</td>\n",
       "      <td>Math</td>\n",
       "      <td>M</td>\n",
       "      <td>NaN</td>\n",
       "      <td>NaN</td>\n",
       "      <td>64.0</td>\n",
       "      <td>28.8</td>\n",
       "    </tr>\n",
       "    <tr>\n",
       "      <th>70116075</th>\n",
       "      <td>مدرسة المستقبل الابتدائية للبنات</td>\n",
       "      <td>South</td>\n",
       "      <td>Math</td>\n",
       "      <td>F</td>\n",
       "      <td>NaN</td>\n",
       "      <td>NaN</td>\n",
       "      <td>NaN</td>\n",
       "      <td>46.3</td>\n",
       "    </tr>\n",
       "    <tr>\n",
       "      <th>71001093</th>\n",
       "      <td>مدرسة رقية الابتدائية للبنات</td>\n",
       "      <td>Muharaq</td>\n",
       "      <td>Math</td>\n",
       "      <td>F</td>\n",
       "      <td>NaN</td>\n",
       "      <td>NaN</td>\n",
       "      <td>NaN</td>\n",
       "      <td>59.3</td>\n",
       "    </tr>\n",
       "    <tr>\n",
       "      <th>70922870</th>\n",
       "      <td>مدرسة سمية الابتدائية للبنات</td>\n",
       "      <td>Cap</td>\n",
       "      <td>Math</td>\n",
       "      <td>F</td>\n",
       "      <td>NaN</td>\n",
       "      <td>NaN</td>\n",
       "      <td>NaN</td>\n",
       "      <td>41.6</td>\n",
       "    </tr>\n",
       "    <tr>\n",
       "      <th>70405786</th>\n",
       "      <td>مدرسة عراد الابتدائية الإعدادية للبنين</td>\n",
       "      <td>Muharaq</td>\n",
       "      <td>Math</td>\n",
       "      <td>M</td>\n",
       "      <td>NaN</td>\n",
       "      <td>NaN</td>\n",
       "      <td>NaN</td>\n",
       "      <td>0.0</td>\n",
       "    </tr>\n",
       "  </tbody>\n",
       "</table>\n",
       "</div>"
      ],
      "text/plain": [
       "                                                 SCH_NM  PROV_NM     SUBM  \\\n",
       "CPR_NO                                                                      \n",
       "70711321  مدرسة أحمد الفاتح الابتدائية الاعدادية للبنين    South  Science   \n",
       "60820420          مدرسة الرفاع الشرقي الابتدائية للبنات    South  Science   \n",
       "70613516          مدرسة الرفاع الشرقي الابتدائية للبنات    South  Science   \n",
       "60820438          مدرسة الرفاع الشرقي الابتدائية للبنات    South  Science   \n",
       "70800898                مدرسة الفارابي الإعدادية للبنين    North  Science   \n",
       "70116075               مدرسة المستقبل الابتدائية للبنات    South  Science   \n",
       "71001093                   مدرسة رقية الابتدائية للبنات  Muharaq  Science   \n",
       "70922870                   مدرسة سمية الابتدائية للبنات      Cap  Science   \n",
       "70405786         مدرسة عراد الابتدائية الإعدادية للبنين  Muharaq  Science   \n",
       "70711321  مدرسة أحمد الفاتح الابتدائية الاعدادية للبنين    South     Math   \n",
       "60820420          مدرسة الرفاع الشرقي الابتدائية للبنات    South     Math   \n",
       "70613516          مدرسة الرفاع الشرقي الابتدائية للبنات    South     Math   \n",
       "60820438          مدرسة الرفاع الشرقي الابتدائية للبنات    South     Math   \n",
       "70800898                مدرسة الفارابي الإعدادية للبنين    North     Math   \n",
       "70116075               مدرسة المستقبل الابتدائية للبنات    South     Math   \n",
       "71001093                   مدرسة رقية الابتدائية للبنات  Muharaq     Math   \n",
       "70922870                   مدرسة سمية الابتدائية للبنات      Cap     Math   \n",
       "70405786         مدرسة عراد الابتدائية الإعدادية للبنين  Muharaq     Math   \n",
       "\n",
       "         Teacher_Gender  ACHIEVEMENTS1  MIDTERM1  FINAL1  NAT_MARK  \n",
       "CPR_NO                                                              \n",
       "70711321              M            NaN       NaN     NaN      45.2  \n",
       "60820420              F            NaN       NaN     NaN      41.1  \n",
       "70613516              F            NaN       NaN     NaN      37.7  \n",
       "60820438              F            NaN       NaN     NaN      59.8  \n",
       "70800898              M            NaN       NaN    82.0      36.5  \n",
       "70116075              F            NaN       NaN     NaN      44.2  \n",
       "71001093              F            NaN       NaN     NaN      63.4  \n",
       "70922870              F            NaN       NaN     NaN      46.1  \n",
       "70405786              M            NaN       NaN     NaN       0.0  \n",
       "70711321              M            NaN       NaN     NaN      46.9  \n",
       "60820420              F            NaN       NaN     NaN      39.0  \n",
       "70613516              F            NaN       NaN     NaN      36.8  \n",
       "60820438              F            NaN       NaN     NaN      60.4  \n",
       "70800898              M            NaN       NaN    64.0      28.8  \n",
       "70116075              F            NaN       NaN     NaN      46.3  \n",
       "71001093              F            NaN       NaN     NaN      59.3  \n",
       "70922870              F            NaN       NaN     NaN      41.6  \n",
       "70405786              M            NaN       NaN     NaN       0.0  "
      ]
     },
     "execution_count": 9,
     "metadata": {},
     "output_type": "execute_result"
    }
   ],
   "source": [
    "df_infer[df_infer.isna().any(axis=1)]"
   ]
  },
  {
   "cell_type": "code",
   "execution_count": 29,
   "metadata": {},
   "outputs": [
    {
     "name": "stdout",
     "output_type": "stream",
     "text": [
      "<class 'pandas.core.frame.DataFrame'>\n",
      "Int64Index: 24172 entries, 70913390 to 70211361\n",
      "Data columns (total 8 columns):\n",
      " #   Column          Non-Null Count  Dtype  \n",
      "---  ------          --------------  -----  \n",
      " 0   NAT_MARK        24172 non-null  int64  \n",
      " 1   SCH_NM          24172 non-null  int64  \n",
      " 2   PROV_NM         24172 non-null  int64  \n",
      " 3   SUBM            24172 non-null  int64  \n",
      " 4   Teacher_Gender  24172 non-null  int64  \n",
      " 5   ACHIEVEMENTS1   24172 non-null  float64\n",
      " 6   MIDTERM1        24172 non-null  float64\n",
      " 7   FINAL1          24172 non-null  float64\n",
      "dtypes: float64(3), int64(5)\n",
      "memory usage: 1.7 MB\n"
     ]
    }
   ],
   "source": [
    "df_infer.info()"
   ]
  },
  {
   "cell_type": "code",
   "execution_count": 10,
   "metadata": {},
   "outputs": [],
   "source": [
    "df_infer.dropna(inplace=True)"
   ]
  },
  {
   "cell_type": "code",
   "execution_count": 11,
   "metadata": {},
   "outputs": [],
   "source": [
    "\n",
    "label_encoder = LabelEncoder()\n",
    "\n",
    "for i in ['SCH_NM', \"PROV_NM\"]:\n",
    "\n",
    "    df_infer[i] = label_encoder.fit_transform(df_infer[i])"
   ]
  },
  {
   "cell_type": "code",
   "execution_count": 12,
   "metadata": {},
   "outputs": [],
   "source": [
    "df_infer.Teacher_Gender=((df_infer.Teacher_Gender==\"M\")+0)\n",
    "df_infer.SUBM=((df_infer.SUBM==\"Math\")+0)"
   ]
  },
  {
   "cell_type": "code",
   "execution_count": 13,
   "metadata": {},
   "outputs": [],
   "source": [
    "df_infer=df_infer[[ 'NAT_MARK','SCH_NM', 'PROV_NM', 'SUBM', 'Teacher_Gender', 'ACHIEVEMENTS1',\n",
    "       'MIDTERM1', 'FINAL1']]"
   ]
  },
  {
   "cell_type": "code",
   "execution_count": null,
   "metadata": {},
   "outputs": [],
   "source": []
  },
  {
   "cell_type": "code",
   "execution_count": 14,
   "metadata": {},
   "outputs": [],
   "source": [
    "from sklearn.preprocessing import LabelEncoder, OneHotEncoder, StandardScaler\n",
    "from sklearn.model_selection import cross_val_score, StratifiedKFold, train_test_split\n",
    "from sklearn.decomposition import PCA\n",
    "from  scipy import stats\n",
    "from sklearn.svm import SVC\n",
    "from sklearn.metrics import mean_absolute_error, mean_squared_error\n",
    "from sklearn.linear_model import LinearRegression"
   ]
  },
  {
   "cell_type": "code",
   "execution_count": 15,
   "metadata": {},
   "outputs": [],
   "source": [
    "\n",
    "df_infer['NAT_MARK'] = ((df_infer['NAT_MARK']>=60)+0)"
   ]
  },
  {
   "cell_type": "code",
   "execution_count": 16,
   "metadata": {},
   "outputs": [
    {
     "data": {
      "text/plain": [
       "0    19299\n",
       "1     4873\n",
       "Name: NAT_MARK, dtype: int64"
      ]
     },
     "execution_count": 16,
     "metadata": {},
     "output_type": "execute_result"
    }
   ],
   "source": [
    "df_infer[\"NAT_MARK\"].value_counts()"
   ]
  },
  {
   "cell_type": "code",
   "execution_count": 36,
   "metadata": {},
   "outputs": [],
   "source": [
    "df_infer.to_csv(\"data/aws_inference_std_LogisticRegression_30_4.csv\" )"
   ]
  },
  {
   "cell_type": "code",
   "execution_count": 37,
   "metadata": {},
   "outputs": [
    {
     "name": "stdout",
     "output_type": "stream",
     "text": [
      "upload: data/aws_inference_std_LogisticRegression_30_4.csv to s3://sec-students2016/sam1610\n"
     ]
    }
   ],
   "source": [
    "! aws  s3  cp \"data/aws_inference_std_LogisticRegression_30_4.csv\"  s3://sec-students2016/sam1610"
   ]
  },
  {
   "cell_type": "code",
   "execution_count": null,
   "metadata": {},
   "outputs": [],
   "source": [
    "! aws s3 ls "
   ]
  },
  {
   "cell_type": "code",
   "execution_count": 17,
   "metadata": {},
   "outputs": [
    {
     "data": {
      "text/html": [
       "<div>\n",
       "<style scoped>\n",
       "    .dataframe tbody tr th:only-of-type {\n",
       "        vertical-align: middle;\n",
       "    }\n",
       "\n",
       "    .dataframe tbody tr th {\n",
       "        vertical-align: top;\n",
       "    }\n",
       "\n",
       "    .dataframe thead th {\n",
       "        text-align: right;\n",
       "    }\n",
       "</style>\n",
       "<table border=\"1\" class=\"dataframe\">\n",
       "  <thead>\n",
       "    <tr style=\"text-align: right;\">\n",
       "      <th></th>\n",
       "      <th>NAT_MARK</th>\n",
       "      <th>SCH_NM</th>\n",
       "      <th>PROV_NM</th>\n",
       "      <th>SUBM</th>\n",
       "      <th>Teacher_Gender</th>\n",
       "      <th>ACHIEVEMENTS1</th>\n",
       "      <th>MIDTERM1</th>\n",
       "      <th>FINAL1</th>\n",
       "    </tr>\n",
       "    <tr>\n",
       "      <th>CPR_NO</th>\n",
       "      <th></th>\n",
       "      <th></th>\n",
       "      <th></th>\n",
       "      <th></th>\n",
       "      <th></th>\n",
       "      <th></th>\n",
       "      <th></th>\n",
       "      <th></th>\n",
       "    </tr>\n",
       "  </thead>\n",
       "  <tbody>\n",
       "    <tr>\n",
       "      <th>70913390</th>\n",
       "      <td>0</td>\n",
       "      <td>0</td>\n",
       "      <td>0</td>\n",
       "      <td>0</td>\n",
       "      <td>1</td>\n",
       "      <td>28.0</td>\n",
       "      <td>17.0</td>\n",
       "      <td>45.0</td>\n",
       "    </tr>\n",
       "    <tr>\n",
       "      <th>71105956</th>\n",
       "      <td>0</td>\n",
       "      <td>0</td>\n",
       "      <td>0</td>\n",
       "      <td>0</td>\n",
       "      <td>1</td>\n",
       "      <td>27.0</td>\n",
       "      <td>14.0</td>\n",
       "      <td>41.5</td>\n",
       "    </tr>\n",
       "    <tr>\n",
       "      <th>70712190</th>\n",
       "      <td>0</td>\n",
       "      <td>0</td>\n",
       "      <td>0</td>\n",
       "      <td>0</td>\n",
       "      <td>1</td>\n",
       "      <td>27.0</td>\n",
       "      <td>13.0</td>\n",
       "      <td>27.5</td>\n",
       "    </tr>\n",
       "    <tr>\n",
       "      <th>70207496</th>\n",
       "      <td>0</td>\n",
       "      <td>0</td>\n",
       "      <td>0</td>\n",
       "      <td>0</td>\n",
       "      <td>1</td>\n",
       "      <td>26.0</td>\n",
       "      <td>15.0</td>\n",
       "      <td>44.0</td>\n",
       "    </tr>\n",
       "    <tr>\n",
       "      <th>70507953</th>\n",
       "      <td>0</td>\n",
       "      <td>0</td>\n",
       "      <td>0</td>\n",
       "      <td>0</td>\n",
       "      <td>1</td>\n",
       "      <td>25.0</td>\n",
       "      <td>14.0</td>\n",
       "      <td>31.5</td>\n",
       "    </tr>\n",
       "  </tbody>\n",
       "</table>\n",
       "</div>"
      ],
      "text/plain": [
       "          NAT_MARK  SCH_NM  PROV_NM  SUBM  Teacher_Gender  ACHIEVEMENTS1  \\\n",
       "CPR_NO                                                                     \n",
       "70913390         0       0        0     0               1           28.0   \n",
       "71105956         0       0        0     0               1           27.0   \n",
       "70712190         0       0        0     0               1           27.0   \n",
       "70207496         0       0        0     0               1           26.0   \n",
       "70507953         0       0        0     0               1           25.0   \n",
       "\n",
       "          MIDTERM1  FINAL1  \n",
       "CPR_NO                      \n",
       "70913390      17.0    45.0  \n",
       "71105956      14.0    41.5  \n",
       "70712190      13.0    27.5  \n",
       "70207496      15.0    44.0  \n",
       "70507953      14.0    31.5  "
      ]
     },
     "execution_count": 17,
     "metadata": {},
     "output_type": "execute_result"
    }
   ],
   "source": [
    "df_infer.head()"
   ]
  },
  {
   "cell_type": "code",
   "execution_count": 18,
   "metadata": {},
   "outputs": [],
   "source": [
    "y=df_infer[\"NAT_MARK\"]\n",
    "X=df_infer.drop(['NAT_MARK'], axis=1)"
   ]
  },
  {
   "cell_type": "code",
   "execution_count": 19,
   "metadata": {},
   "outputs": [
    {
     "data": {
      "text/html": [
       "<div>\n",
       "<style scoped>\n",
       "    .dataframe tbody tr th:only-of-type {\n",
       "        vertical-align: middle;\n",
       "    }\n",
       "\n",
       "    .dataframe tbody tr th {\n",
       "        vertical-align: top;\n",
       "    }\n",
       "\n",
       "    .dataframe thead th {\n",
       "        text-align: right;\n",
       "    }\n",
       "</style>\n",
       "<table border=\"1\" class=\"dataframe\">\n",
       "  <thead>\n",
       "    <tr style=\"text-align: right;\">\n",
       "      <th></th>\n",
       "      <th>NAT_MARK</th>\n",
       "      <th>SCH_NM</th>\n",
       "      <th>PROV_NM</th>\n",
       "      <th>SUBM</th>\n",
       "      <th>Teacher_Gender</th>\n",
       "      <th>ACHIEVEMENTS1</th>\n",
       "      <th>MIDTERM1</th>\n",
       "      <th>FINAL1</th>\n",
       "    </tr>\n",
       "    <tr>\n",
       "      <th>CPR_NO</th>\n",
       "      <th></th>\n",
       "      <th></th>\n",
       "      <th></th>\n",
       "      <th></th>\n",
       "      <th></th>\n",
       "      <th></th>\n",
       "      <th></th>\n",
       "      <th></th>\n",
       "    </tr>\n",
       "  </thead>\n",
       "  <tbody>\n",
       "    <tr>\n",
       "      <th>70913390</th>\n",
       "      <td>False</td>\n",
       "      <td>False</td>\n",
       "      <td>False</td>\n",
       "      <td>False</td>\n",
       "      <td>False</td>\n",
       "      <td>False</td>\n",
       "      <td>False</td>\n",
       "      <td>False</td>\n",
       "    </tr>\n",
       "    <tr>\n",
       "      <th>71105956</th>\n",
       "      <td>False</td>\n",
       "      <td>False</td>\n",
       "      <td>False</td>\n",
       "      <td>False</td>\n",
       "      <td>False</td>\n",
       "      <td>False</td>\n",
       "      <td>False</td>\n",
       "      <td>False</td>\n",
       "    </tr>\n",
       "    <tr>\n",
       "      <th>70712190</th>\n",
       "      <td>False</td>\n",
       "      <td>False</td>\n",
       "      <td>False</td>\n",
       "      <td>False</td>\n",
       "      <td>False</td>\n",
       "      <td>False</td>\n",
       "      <td>False</td>\n",
       "      <td>False</td>\n",
       "    </tr>\n",
       "    <tr>\n",
       "      <th>70207496</th>\n",
       "      <td>False</td>\n",
       "      <td>False</td>\n",
       "      <td>False</td>\n",
       "      <td>False</td>\n",
       "      <td>False</td>\n",
       "      <td>False</td>\n",
       "      <td>False</td>\n",
       "      <td>False</td>\n",
       "    </tr>\n",
       "    <tr>\n",
       "      <th>70507953</th>\n",
       "      <td>False</td>\n",
       "      <td>False</td>\n",
       "      <td>False</td>\n",
       "      <td>False</td>\n",
       "      <td>False</td>\n",
       "      <td>False</td>\n",
       "      <td>False</td>\n",
       "      <td>False</td>\n",
       "    </tr>\n",
       "    <tr>\n",
       "      <th>...</th>\n",
       "      <td>...</td>\n",
       "      <td>...</td>\n",
       "      <td>...</td>\n",
       "      <td>...</td>\n",
       "      <td>...</td>\n",
       "      <td>...</td>\n",
       "      <td>...</td>\n",
       "      <td>...</td>\n",
       "    </tr>\n",
       "    <tr>\n",
       "      <th>70304602</th>\n",
       "      <td>False</td>\n",
       "      <td>False</td>\n",
       "      <td>False</td>\n",
       "      <td>False</td>\n",
       "      <td>False</td>\n",
       "      <td>False</td>\n",
       "      <td>False</td>\n",
       "      <td>False</td>\n",
       "    </tr>\n",
       "    <tr>\n",
       "      <th>71007423</th>\n",
       "      <td>False</td>\n",
       "      <td>False</td>\n",
       "      <td>False</td>\n",
       "      <td>False</td>\n",
       "      <td>False</td>\n",
       "      <td>False</td>\n",
       "      <td>False</td>\n",
       "      <td>False</td>\n",
       "    </tr>\n",
       "    <tr>\n",
       "      <th>70402183</th>\n",
       "      <td>False</td>\n",
       "      <td>False</td>\n",
       "      <td>False</td>\n",
       "      <td>False</td>\n",
       "      <td>False</td>\n",
       "      <td>False</td>\n",
       "      <td>False</td>\n",
       "      <td>False</td>\n",
       "    </tr>\n",
       "    <tr>\n",
       "      <th>70803196</th>\n",
       "      <td>False</td>\n",
       "      <td>False</td>\n",
       "      <td>False</td>\n",
       "      <td>False</td>\n",
       "      <td>False</td>\n",
       "      <td>False</td>\n",
       "      <td>False</td>\n",
       "      <td>False</td>\n",
       "    </tr>\n",
       "    <tr>\n",
       "      <th>70211361</th>\n",
       "      <td>False</td>\n",
       "      <td>False</td>\n",
       "      <td>False</td>\n",
       "      <td>False</td>\n",
       "      <td>False</td>\n",
       "      <td>False</td>\n",
       "      <td>False</td>\n",
       "      <td>False</td>\n",
       "    </tr>\n",
       "  </tbody>\n",
       "</table>\n",
       "<p>24172 rows × 8 columns</p>\n",
       "</div>"
      ],
      "text/plain": [
       "          NAT_MARK  SCH_NM  PROV_NM   SUBM  Teacher_Gender  ACHIEVEMENTS1  \\\n",
       "CPR_NO                                                                      \n",
       "70913390     False   False    False  False           False          False   \n",
       "71105956     False   False    False  False           False          False   \n",
       "70712190     False   False    False  False           False          False   \n",
       "70207496     False   False    False  False           False          False   \n",
       "70507953     False   False    False  False           False          False   \n",
       "...            ...     ...      ...    ...             ...            ...   \n",
       "70304602     False   False    False  False           False          False   \n",
       "71007423     False   False    False  False           False          False   \n",
       "70402183     False   False    False  False           False          False   \n",
       "70803196     False   False    False  False           False          False   \n",
       "70211361     False   False    False  False           False          False   \n",
       "\n",
       "          MIDTERM1  FINAL1  \n",
       "CPR_NO                      \n",
       "70913390     False   False  \n",
       "71105956     False   False  \n",
       "70712190     False   False  \n",
       "70207496     False   False  \n",
       "70507953     False   False  \n",
       "...            ...     ...  \n",
       "70304602     False   False  \n",
       "71007423     False   False  \n",
       "70402183     False   False  \n",
       "70803196     False   False  \n",
       "70211361     False   False  \n",
       "\n",
       "[24172 rows x 8 columns]"
      ]
     },
     "execution_count": 19,
     "metadata": {},
     "output_type": "execute_result"
    }
   ],
   "source": [
    "df_infer.isna()"
   ]
  },
  {
   "cell_type": "code",
   "execution_count": null,
   "metadata": {},
   "outputs": [],
   "source": []
  },
  {
   "cell_type": "code",
   "execution_count": null,
   "metadata": {},
   "outputs": [],
   "source": []
  },
  {
   "cell_type": "code",
   "execution_count": null,
   "metadata": {},
   "outputs": [],
   "source": []
  },
  {
   "cell_type": "code",
   "execution_count": 20,
   "metadata": {},
   "outputs": [],
   "source": [
    "column_trans=make_column_transformer(\n",
    "(StandardScaler(), ['ACHIEVEMENTS1', 'MIDTERM1' , 'FINAL1']),\n",
    "(OneHotEncoder(), ['PROV_NM', 'SCH_NM']),\n",
    "   #PCA(n_components=.95, svd_solver=\"full\"),\n",
    " remainder=\"passthrough\")\n",
    "\n"
   ]
  },
  {
   "cell_type": "code",
   "execution_count": 21,
   "metadata": {},
   "outputs": [],
   "source": [
    "pipe=make_pipeline( column_trans, \n",
    "                   #SVC()\n",
    "#XGBRegressor(  objective=\"reg:squarederror\", num_round=150, nthread=-1)\n",
    "                   XGBClassifier(objective= 'binary:logistic',seed=42, nthread=4,\n",
    ")\n",
    "                  )"
   ]
  },
  {
   "cell_type": "code",
   "execution_count": 22,
   "metadata": {},
   "outputs": [],
   "source": [
    "from scipy import stats as st\n",
    "# A parameter grid for XGBoost\n",
    "parameters = {\n",
    "#     'xgbclassifier__nthread':[4], #when use hyperthread, xgboost may become slower\n",
    "              'xgbclassifier__objective': ['binary:logistic'],\n",
    "              'xgbclassifier__learning_rate': np.arange(.01, .05, 0.05), #so called `eta` value\n",
    "              'xgbclassifier__max_depth': np.arange(6, 8),\n",
    "              'xgbclassifier__min_child_weight': np.arange(5,11),\n",
    "              'xgbclassifier__silent':[1],\n",
    "              'xgbclassifier__subsample':[0.8, .9,1],\n",
    "              'xgbclassifier__colsample_bytree': [0.7, .8, .9, 1],\n",
    "              'xgbclassifier__n_estimators':[150, 2050, 350 ] #number of trees, change it to 1000 for better results\n",
    "#                'missing':[-999],\n",
    "#               'seed': 42\n",
    "             }"
   ]
  },
  {
   "cell_type": "code",
   "execution_count": 23,
   "metadata": {},
   "outputs": [],
   "source": [
    "\n",
    "X_train,X_test,y_train, y_test=train_test_split(X,y , test_size=0.3, stratify=y,  random_state=42)\n",
    "X_valid,X_test,y_valid, y_test=train_test_split(X_test,y_test , test_size=0.5,random_state=123)"
   ]
  },
  {
   "cell_type": "code",
   "execution_count": 24,
   "metadata": {},
   "outputs": [],
   "source": [
    "skf = StratifiedKFold(n_splits=10 ,shuffle = True, random_state = 42)\n",
    "\n",
    "clf = RandomizedSearchCV(pipe, parameters, n_jobs=-1, \n",
    "                   cv=skf.split(X_train,y_train)\n",
    "                   ,scoring='roc_auc',\n",
    "                   verbose=2, refit=True)"
   ]
  },
  {
   "cell_type": "code",
   "execution_count": 25,
   "metadata": {},
   "outputs": [
    {
     "name": "stdout",
     "output_type": "stream",
     "text": [
      "Fitting 10 folds for each of 10 candidates, totalling 100 fits\n"
     ]
    },
    {
     "name": "stderr",
     "output_type": "stream",
     "text": [
      "[Parallel(n_jobs=5)]: Using backend LokyBackend with 5 concurrent workers.\n",
      "[Parallel(n_jobs=5)]: Done  31 tasks      | elapsed:  7.2min\n",
      "[Parallel(n_jobs=5)]: Done 100 out of 100 | elapsed: 27.8min finished\n"
     ]
    },
    {
     "data": {
      "text/plain": [
       "RandomizedSearchCV(cv=<generator object _BaseKFold.split at 0x119655c80>,\n",
       "                   error_score=nan,\n",
       "                   estimator=Pipeline(memory=None,\n",
       "                                      steps=[('columntransformer',\n",
       "                                              ColumnTransformer(n_jobs=None,\n",
       "                                                                remainder='passthrough',\n",
       "                                                                sparse_threshold=0.3,\n",
       "                                                                transformer_weights=None,\n",
       "                                                                transformers=[('standardscaler',\n",
       "                                                                               StandardScaler(copy=True,\n",
       "                                                                                              with_mean=True,\n",
       "                                                                                              with_std=True),\n",
       "                                                                               ['ACHIEVEMENTS1',\n",
       "                                                                                'M...\n",
       "                                        'xgbclassifier__max_depth': array([6, 7]),\n",
       "                                        'xgbclassifier__min_child_weight': array([ 5,  6,  7,  8,  9, 10]),\n",
       "                                        'xgbclassifier__n_estimators': [150,\n",
       "                                                                        2050,\n",
       "                                                                        350],\n",
       "                                        'xgbclassifier__objective': ['binary:logistic'],\n",
       "                                        'xgbclassifier__silent': [1],\n",
       "                                        'xgbclassifier__subsample': [0.8, 0.9,\n",
       "                                                                     1]},\n",
       "                   pre_dispatch='2*n_jobs', random_state=None, refit=True,\n",
       "                   return_train_score=False, scoring='roc_auc', verbose=2)"
      ]
     },
     "execution_count": 25,
     "metadata": {},
     "output_type": "execute_result"
    }
   ],
   "source": [
    "clf.fit(X_train,y_train) "
   ]
  },
  {
   "cell_type": "code",
   "execution_count": null,
   "metadata": {},
   "outputs": [],
   "source": []
  },
  {
   "cell_type": "code",
   "execution_count": 30,
   "metadata": {},
   "outputs": [],
   "source": [
    "from sklearn.metrics import confusion_matrix\n",
    "cfm= pd.DataFrame(confusion_matrix(y_test, clf.predict(X_test)))\n",
    "cfm.index.name=\"Actual\"\n",
    "cfm.columns.name=\"Predicted\""
   ]
  },
  {
   "cell_type": "code",
   "execution_count": 31,
   "metadata": {},
   "outputs": [
    {
     "data": {
      "text/plain": [
       "<matplotlib.axes._subplots.AxesSubplot at 0x11bfd22e0>"
      ]
     },
     "execution_count": 31,
     "metadata": {},
     "output_type": "execute_result"
    },
    {
     "data": {
      "image/png": "[encoded data removed]",
      "text/plain": [
       "<Figure size 720x504 with 2 Axes>"
      ]
     },
     "metadata": {
      "needs_background": "light"
     },
     "output_type": "display_data"
    }
   ],
   "source": [
    "import seaborn  as sns\n",
    "import matplotlib.pyplot as plt\n",
    "%matplotlib  inline\n",
    "plt.figure(figsize=(10,7))\n",
    "sns.heatmap(cfm , cmap=\"Blues\", annot=True, annot_kws={\"size\":16}, fmt=\"g\")"
   ]
  },
  {
   "cell_type": "code",
   "execution_count": 33,
   "metadata": {},
   "outputs": [
    {
     "name": "stdout",
     "output_type": "stream",
     "text": [
      "              precision    recall  f1-score   support\n",
      "\n",
      "         <60       0.92      0.95      0.93      2902\n",
      "        >=60       0.76      0.65      0.70       724\n",
      "\n",
      "    accuracy                           0.89      3626\n",
      "   macro avg       0.84      0.80      0.82      3626\n",
      "weighted avg       0.88      0.89      0.89      3626\n",
      "\n"
     ]
    }
   ],
   "source": [
    "from sklearn.metrics import classification_report\n",
    "target_names = ['<60', '>=60']\n",
    "print(classification_report(y_test, clf.predict(X_test), target_names=target_names))"
   ]
  },
  {
   "cell_type": "code",
   "execution_count": null,
   "metadata": {},
   "outputs": [],
   "source": []
  },
  {
   "cell_type": "code",
   "execution_count": null,
   "metadata": {},
   "outputs": [],
   "source": []
  },
  {
   "cell_type": "code",
   "execution_count": null,
   "metadata": {},
   "outputs": [],
   "source": []
  },
  {
   "cell_type": "code",
   "execution_count": null,
   "metadata": {},
   "outputs": [],
   "source": []
  },
  {
   "cell_type": "code",
   "execution_count": null,
   "metadata": {},
   "outputs": [],
   "source": [
    "\n",
    "skf = StratifiedKFold(n_splits=10 ,shuffle = True, random_state = 42)\n",
    "\n",
    "GridSearch =GridSearchCV(pipe, params , n_jobs=-1,\n",
    "                                  )\n",
    "\n",
    "# Here we go\n",
    "#start_time = timer(None) # timing starts from this point for \"start_time\" variable\n",
    "\n",
    "#timer(start_time) # timing ends here for \"start_time\" variable"
   ]
  },
  {
   "cell_type": "code",
   "execution_count": null,
   "metadata": {},
   "outputs": [],
   "source": [
    "# GridSearch.fit(X_train, y_train)"
   ]
  },
  {
   "cell_type": "code",
   "execution_count": 49,
   "metadata": {},
   "outputs": [
    {
     "name": "stdout",
     "output_type": "stream",
     "text": [
      "\n",
      " All results:\n",
      "{'mean_fit_time': array([79.16778231,  7.04617591,  7.19036312, 90.73053577,  7.82609797,\n",
      "       96.72684829, 19.74540157,  8.48513966, 19.60377131,  8.30671537]), 'std_fit_time': array([5.23744995, 0.68480953, 0.63601317, 2.35148707, 0.66097961,\n",
      "       1.03787868, 0.30513827, 0.8149558 , 0.89567331, 0.67256333]), 'mean_score_time': array([1.16391711, 0.1039521 , 0.08900504, 1.12656324, 0.07717533,\n",
      "       1.18735702, 0.14824891, 0.09103937, 0.18391683, 0.08585985]), 'std_score_time': array([0.12073387, 0.02791099, 0.02317704, 0.22076845, 0.01796171,\n",
      "       0.30559345, 0.03370447, 0.02326228, 0.01063954, 0.03277194]), 'param_xgbclassifier__subsample': masked_array(data=[0.9, 0.9, 0.8, 1, 0.8, 0.9, 0.9, 0.9, 0.9, 0.8],\n",
      "             mask=[False, False, False, False, False, False, False, False,\n",
      "                   False, False],\n",
      "       fill_value='?',\n",
      "            dtype=object), 'param_xgbclassifier__silent': masked_array(data=[1, 1, 1, 1, 1, 1, 1, 1, 1, 1],\n",
      "             mask=[False, False, False, False, False, False, False, False,\n",
      "                   False, False],\n",
      "       fill_value='?',\n",
      "            dtype=object), 'param_xgbclassifier__objective': masked_array(data=['binary:logistic', 'binary:logistic',\n",
      "                   'binary:logistic', 'binary:logistic',\n",
      "                   'binary:logistic', 'binary:logistic',\n",
      "                   'binary:logistic', 'binary:logistic',\n",
      "                   'binary:logistic', 'binary:logistic'],\n",
      "             mask=[False, False, False, False, False, False, False, False,\n",
      "                   False, False],\n",
      "       fill_value='?',\n",
      "            dtype=object), 'param_xgbclassifier__n_estimators': masked_array(data=[2050, 150, 150, 2050, 150, 2050, 350, 150, 350, 150],\n",
      "             mask=[False, False, False, False, False, False, False, False,\n",
      "                   False, False],\n",
      "       fill_value='?',\n",
      "            dtype=object), 'param_xgbclassifier__min_child_weight': masked_array(data=[8, 5, 7, 8, 9, 7, 10, 7, 9, 10],\n",
      "             mask=[False, False, False, False, False, False, False, False,\n",
      "                   False, False],\n",
      "       fill_value='?',\n",
      "            dtype=object), 'param_xgbclassifier__max_depth': masked_array(data=[7, 7, 6, 6, 6, 7, 6, 6, 6, 7],\n",
      "             mask=[False, False, False, False, False, False, False, False,\n",
      "                   False, False],\n",
      "       fill_value='?',\n",
      "            dtype=object), 'param_xgbclassifier__learning_rate': masked_array(data=[0.01, 0.01, 0.01, 0.01, 0.01, 0.01, 0.01, 0.01, 0.01,\n",
      "                   0.01],\n",
      "             mask=[False, False, False, False, False, False, False, False,\n",
      "                   False, False],\n",
      "       fill_value='?',\n",
      "            dtype=object), 'param_xgbclassifier__colsample_bytree': masked_array(data=[0.8, 0.7, 0.7, 0.9, 0.7, 0.7, 0.9, 0.8, 0.9, 0.7],\n",
      "             mask=[False, False, False, False, False, False, False, False,\n",
      "                   False, False],\n",
      "       fill_value='?',\n",
      "            dtype=object), 'params': [{'xgbclassifier__subsample': 0.9, 'xgbclassifier__silent': 1, 'xgbclassifier__objective': 'binary:logistic', 'xgbclassifier__n_estimators': 2050, 'xgbclassifier__min_child_weight': 8, 'xgbclassifier__max_depth': 7, 'xgbclassifier__learning_rate': 0.01, 'xgbclassifier__colsample_bytree': 0.8}, {'xgbclassifier__subsample': 0.9, 'xgbclassifier__silent': 1, 'xgbclassifier__objective': 'binary:logistic', 'xgbclassifier__n_estimators': 150, 'xgbclassifier__min_child_weight': 5, 'xgbclassifier__max_depth': 7, 'xgbclassifier__learning_rate': 0.01, 'xgbclassifier__colsample_bytree': 0.7}, {'xgbclassifier__subsample': 0.8, 'xgbclassifier__silent': 1, 'xgbclassifier__objective': 'binary:logistic', 'xgbclassifier__n_estimators': 150, 'xgbclassifier__min_child_weight': 7, 'xgbclassifier__max_depth': 6, 'xgbclassifier__learning_rate': 0.01, 'xgbclassifier__colsample_bytree': 0.7}, {'xgbclassifier__subsample': 1, 'xgbclassifier__silent': 1, 'xgbclassifier__objective': 'binary:logistic', 'xgbclassifier__n_estimators': 2050, 'xgbclassifier__min_child_weight': 8, 'xgbclassifier__max_depth': 6, 'xgbclassifier__learning_rate': 0.01, 'xgbclassifier__colsample_bytree': 0.9}, {'xgbclassifier__subsample': 0.8, 'xgbclassifier__silent': 1, 'xgbclassifier__objective': 'binary:logistic', 'xgbclassifier__n_estimators': 150, 'xgbclassifier__min_child_weight': 9, 'xgbclassifier__max_depth': 6, 'xgbclassifier__learning_rate': 0.01, 'xgbclassifier__colsample_bytree': 0.7}, {'xgbclassifier__subsample': 0.9, 'xgbclassifier__silent': 1, 'xgbclassifier__objective': 'binary:logistic', 'xgbclassifier__n_estimators': 2050, 'xgbclassifier__min_child_weight': 7, 'xgbclassifier__max_depth': 7, 'xgbclassifier__learning_rate': 0.01, 'xgbclassifier__colsample_bytree': 0.7}, {'xgbclassifier__subsample': 0.9, 'xgbclassifier__silent': 1, 'xgbclassifier__objective': 'binary:logistic', 'xgbclassifier__n_estimators': 350, 'xgbclassifier__min_child_weight': 10, 'xgbclassifier__max_depth': 6, 'xgbclassifier__learning_rate': 0.01, 'xgbclassifier__colsample_bytree': 0.9}, {'xgbclassifier__subsample': 0.9, 'xgbclassifier__silent': 1, 'xgbclassifier__objective': 'binary:logistic', 'xgbclassifier__n_estimators': 150, 'xgbclassifier__min_child_weight': 7, 'xgbclassifier__max_depth': 6, 'xgbclassifier__learning_rate': 0.01, 'xgbclassifier__colsample_bytree': 0.8}, {'xgbclassifier__subsample': 0.9, 'xgbclassifier__silent': 1, 'xgbclassifier__objective': 'binary:logistic', 'xgbclassifier__n_estimators': 350, 'xgbclassifier__min_child_weight': 9, 'xgbclassifier__max_depth': 6, 'xgbclassifier__learning_rate': 0.01, 'xgbclassifier__colsample_bytree': 0.9}, {'xgbclassifier__subsample': 0.8, 'xgbclassifier__silent': 1, 'xgbclassifier__objective': 'binary:logistic', 'xgbclassifier__n_estimators': 150, 'xgbclassifier__min_child_weight': 10, 'xgbclassifier__max_depth': 7, 'xgbclassifier__learning_rate': 0.01, 'xgbclassifier__colsample_bytree': 0.7}], 'split0_test_score': array([0.93094   , 0.92244639, 0.92016353, 0.93139809, 0.91968811,\n",
      "       0.93191683, 0.92185943, 0.91896903, 0.92160927, 0.91974442]), 'split1_test_score': array([0.92851933, 0.92164488, 0.92057257, 0.92913146, 0.92000929,\n",
      "       0.92873423, 0.92360281, 0.91951004, 0.92369397, 0.92060839]), 'split2_test_score': array([0.92500505, 0.91622476, 0.91487895, 0.9254674 , 0.91437536,\n",
      "       0.92648109, 0.9150971 , 0.91312724, 0.91544441, 0.91425164]), 'split3_test_score': array([0.94595401, 0.93494121, 0.93251442, 0.94635016, 0.93190121,\n",
      "       0.94740075, 0.93302669, 0.93084193, 0.93312003, 0.93297568]), 'split4_test_score': array([0.92789093, 0.91737086, 0.91475306, 0.92733199, 0.91381099,\n",
      "       0.92882648, 0.91966416, 0.91408558, 0.91991053, 0.91439273]), 'split5_test_score': array([0.93138894, 0.92112175, 0.91935701, 0.93169283, 0.91892831,\n",
      "       0.93160383, 0.92103167, 0.91853325, 0.92114997, 0.91880132]), 'split6_test_score': array([0.93766321, 0.93251333, 0.93032315, 0.93829595, 0.92905983,\n",
      "       0.93817331, 0.93133901, 0.92885687, 0.93146925, 0.92908804]), 'split7_test_score': array([0.93266745, 0.92524599, 0.92335644, 0.93225177, 0.92236119,\n",
      "       0.9330853 , 0.92514288, 0.92303192, 0.92526118, 0.92197482]), 'split8_test_score': array([0.93195982, 0.92327721, 0.9204228 , 0.93158864, 0.92001255,\n",
      "       0.93288451, 0.92196613, 0.91867977, 0.92188256, 0.91958167]), 'split9_test_score': array([0.92939845, 0.91941345, 0.91725256, 0.93000297, 0.91682928,\n",
      "       0.93019942, 0.92066483, 0.91709519, 0.9210143 , 0.91667083]), 'mean_test_score': array([0.93213872, 0.92341998, 0.92135945, 0.93235112, 0.92069761,\n",
      "       0.93293058, 0.92333947, 0.92027308, 0.92345555, 0.92080895]), 'std_test_score': array([0.00559674, 0.00576696, 0.00564104, 0.0056719 , 0.00552872,\n",
      "       0.00568502, 0.00509075, 0.00547986, 0.0050482 , 0.00570905]), 'rank_test_score': array([ 3,  5,  7,  2,  9,  1,  6, 10,  4,  8], dtype=int32)}\n",
      "\n",
      " Best estimator:\n",
      "Pipeline(memory=None,\n",
      "         steps=[('columntransformer',\n",
      "                 ColumnTransformer(n_jobs=None, remainder='passthrough',\n",
      "                                   sparse_threshold=0.3,\n",
      "                                   transformer_weights=None,\n",
      "                                   transformers=[('standardscaler',\n",
      "                                                  StandardScaler(copy=True,\n",
      "                                                                 with_mean=True,\n",
      "                                                                 with_std=True),\n",
      "                                                  ['ACHIEVEMENTS1', 'MIDTERM1',\n",
      "                                                   'FINAL1']),\n",
      "                                                 ('onehotencoder',\n",
      "                                                  OneHotEncoder(categories='auto',\n",
      "                                                                drop=None,\n",
      "                                                                dtype=<class 'num...\n",
      "                 XGBClassifier(base_score=0.5, booster='gbtree',\n",
      "                               colsample_bylevel=1, colsample_bynode=1,\n",
      "                               colsample_bytree=0.7, gamma=0,\n",
      "                               learning_rate=0.01, max_delta_step=0,\n",
      "                               max_depth=7, min_child_weight=7, missing=None,\n",
      "                               n_estimators=2050, n_jobs=1, nthread=4,\n",
      "                               objective='binary:logistic', random_state=0,\n",
      "                               reg_alpha=0, reg_lambda=1, scale_pos_weight=1,\n",
      "                               seed=42, silent=1, subsample=0.9,\n",
      "                               verbosity=1))],\n",
      "         verbose=False)\n",
      "\n",
      " Best normalized gini score for 3-fold search with 5 parameter combinations:\n",
      "0.8658611502805258\n",
      "\n",
      " Best hyperparameters:\n",
      "{'xgbclassifier__subsample': 0.9, 'xgbclassifier__silent': 1, 'xgbclassifier__objective': 'binary:logistic', 'xgbclassifier__n_estimators': 2050, 'xgbclassifier__min_child_weight': 7, 'xgbclassifier__max_depth': 7, 'xgbclassifier__learning_rate': 0.01, 'xgbclassifier__colsample_bytree': 0.7}\n"
     ]
    }
   ],
   "source": [
    "print('\\n All results:')\n",
    "print(clf.cv_results_)\n",
    "print('\\n Best estimator:')\n",
    "print(clf.best_estimator_)\n",
    "print('\\n Best normalized gini score for %d-fold search with %d parameter combinations:' % (3, 5))\n",
    "print(clf.best_score_ * 2 - 1)\n",
    "print('\\n Best hyperparameters:')\n",
    "print(clf.best_params_)\n",
    "results = pd.DataFrame(clf.cv_results_)\n",
    "# results.to_csv('xgb-random-grid-search-results-01.csv', index=False)"
   ]
  },
  {
   "cell_type": "code",
   "execution_count": 50,
   "metadata": {},
   "outputs": [
    {
     "data": {
      "text/plain": [
       "CPR_NO\n",
       "71015264    1\n",
       "70908036    0\n",
       "70411484    1\n",
       "80104223    0\n",
       "70910332    1\n",
       "Name: NAT_MARK, dtype: int64"
      ]
     },
     "execution_count": 50,
     "metadata": {},
     "output_type": "execute_result"
    }
   ],
   "source": [
    "y_train.head()"
   ]
  },
  {
   "cell_type": "markdown",
   "metadata": {},
   "source": [
    "# Learning curve"
   ]
  },
  {
   "cell_type": "code",
   "execution_count": 51,
   "metadata": {},
   "outputs": [],
   "source": [
    "from sklearn.model_selection import learning_curve\n",
    "\n",
    "train_size, train_score, test_score =learning_curve(estimator=pipe, \n",
    "                                                    X=X_train, \n",
    "                                                    y=y_train,\n",
    "                                                    train_sizes=np.linspace(0.1, 1, 10 ), scoring='f1_weighted',\n",
    "                                                    \n",
    "                                                    cv=10 , n_jobs=1)"
   ]
  },
  {
   "cell_type": "code",
   "execution_count": 52,
   "metadata": {},
   "outputs": [],
   "source": [
    "train_mean=np.mean(train_score, axis=1)\n",
    "train_std= np.std (train_score, axis=1)\n",
    "test_mean= np.mean(test_score,  axis=1)\n",
    "test_std=  np.std (test_score,  axis=1)"
   ]
  },
  {
   "cell_type": "code",
   "execution_count": 55,
   "metadata": {},
   "outputs": [
    {
     "data": {
      "image/png": "[encoded data removed]",
      "text/plain": [
       "<Figure size 864x504 with 1 Axes>"
      ]
     },
     "metadata": {
      "needs_background": "light"
     },
     "output_type": "display_data"
    }
   ],
   "source": [
    "import matplotlib.pyplot as plt\n",
    "plt.figure(figsize=(12, 7))\n",
    "plotGraph(train_size, train_mean, test_mean, \n",
    "          train_std, test_std,\"linear\", \"Number of Training Example\")"
   ]
  },
  {
   "cell_type": "markdown",
   "metadata": {},
   "source": [
    "# validation curves"
   ]
  },
  {
   "cell_type": "code",
   "execution_count": null,
   "metadata": {},
   "outputs": [],
   "source": [
    "np.arange(0, 1.2,0.2 )"
   ]
  },
  {
   "cell_type": "code",
   "execution_count": 57,
   "metadata": {},
   "outputs": [],
   "source": [
    "from sklearn.model_selection import validation_curve\n",
    "# from sklearn.model_selection import validation_curve\n",
    "param_range =np.arange(0, 1.2, 0.2)\n",
    "train_score, test_score =validation_curve(\n",
    "    estimator=pipe, X=X_train, y=y_train, \n",
    "    param_name=\"xgbclassifier__reg_alpha\", param_range=param_range, \n",
    "    cv=10,\n",
    "    n_jobs=-1\n",
    "\n",
    ")\n",
    "train_mean=np.mean(train_score, axis=1)\n",
    "train_std= np.std (train_score, axis=1)\n",
    "test_mean= np.mean(test_score,  axis=1)\n",
    "test_std=  np.std (test_score,  axis=1)\n",
    "\n",
    "# plt.plot(param_range, train_mean, \n",
    "#         color=\"blue\", \n",
    "#          marker=\"o\",\n",
    "#          markersize=5, \n",
    "#          label=\"Training Accuracy \"\n",
    "#         )\n"
   ]
  },
  {
   "cell_type": "code",
   "execution_count": 58,
   "metadata": {},
   "outputs": [
    {
     "data": {
      "image/png": "[encoded data removed]",
      "text/plain": [
       "<Figure size 432x288 with 1 Axes>"
      ]
     },
     "metadata": {
      "needs_background": "light"
     },
     "output_type": "display_data"
    }
   ],
   "source": [
    "plotGraph(param_range, train_mean, test_mean, train_std, test_std, \"linear\", \"Parameter C\")"
   ]
  },
  {
   "cell_type": "code",
   "execution_count": null,
   "metadata": {},
   "outputs": [],
   "source": []
  },
  {
   "cell_type": "code",
   "execution_count": null,
   "metadata": {},
   "outputs": [],
   "source": []
  },
  {
   "cell_type": "code",
   "execution_count": null,
   "metadata": {},
   "outputs": [],
   "source": [
    "random_search.best_params_"
   ]
  },
  {
   "cell_type": "code",
   "execution_count": null,
   "metadata": {},
   "outputs": [],
   "source": [
    "clf=random_search.best_estimator_"
   ]
  },
  {
   "cell_type": "code",
   "execution_count": null,
   "metadata": {},
   "outputs": [],
   "source": [
    "pipe=make_pipeline( column_trans, \n",
    "XGBClassifier(colsample_bytree=0.31033775002511965,\n",
    " learning_rate= 0.09572009075316446,\n",
    " max_depth= 5,\n",
    " min_child_weight= 2,\n",
    " n_estimators= 408))"
   ]
  },
  {
   "cell_type": "code",
   "execution_count": null,
   "metadata": {},
   "outputs": [],
   "source": [
    "xg_classifier=XGBClassifier(colsample_bytree=0.5589969920043588,\n",
    " learning_rate= 0.5099169470416985,\n",
    " max_depth= 5,\n",
    " min_child_weight= 2,\n",
    " n_estimators= 180, scale_weight= 61)"
   ]
  },
  {
   "cell_type": "code",
   "execution_count": null,
   "metadata": {},
   "outputs": [],
   "source": [
    "import xgboost as xgb\n",
    "regressor=xgb.XGBRegressor(max_depth=5, eta=0.1, subsample=0.7, num_round=150, n_estimators=150)\n",
    "regressor.fit(X_train,y_train, eval_set=[(X_train,y_train), (X_valid,y_valid)]) "
   ]
  },
  {
   "cell_type": "code",
   "execution_count": null,
   "metadata": {},
   "outputs": [],
   "source": [
    "eval_result=regressor.evals_result()"
   ]
  },
  {
   "cell_type": "code",
   "execution_count": null,
   "metadata": {},
   "outputs": [],
   "source": [
    "t_round=range(len(eval_result[\"validation_0\"][\"rmse\"]))"
   ]
  },
  {
   "cell_type": "code",
   "execution_count": null,
   "metadata": {},
   "outputs": [],
   "source": [
    "import matplotlib.pyplot as plt\n",
    "%matplotlib inline"
   ]
  },
  {
   "cell_type": "code",
   "execution_count": null,
   "metadata": {},
   "outputs": [],
   "source": [
    "plt.scatter(t_round, eval_result[\"validation_0\"][\"rmse\"], label=\" Training Error\")\n",
    "plt.scatter(t_round, eval_result[\"validation_1\"][\"rmse\"], label=\" Validation Error\")\n",
    "plt.grid()\n",
    "plt.xlabel(\"Iteration\")\n",
    "plt.ylabel(\"RMSE\")\n",
    "plt.title(\"  Taining vs Validation Error\")\n",
    "plt.legend()\n",
    "plt.show()\n",
    "\n"
   ]
  },
  {
   "cell_type": "code",
   "execution_count": null,
   "metadata": {},
   "outputs": [],
   "source": [
    "import xgboost as xgb"
   ]
  },
  {
   "cell_type": "code",
   "execution_count": null,
   "metadata": {},
   "outputs": [],
   "source": [
    "xgb.plot_importance(regressor)"
   ]
  },
  {
   "cell_type": "code",
   "execution_count": null,
   "metadata": {},
   "outputs": [],
   "source": []
  },
  {
   "cell_type": "code",
   "execution_count": null,
   "metadata": {},
   "outputs": [],
   "source": []
  },
  {
   "cell_type": "code",
   "execution_count": null,
   "metadata": {},
   "outputs": [],
   "source": []
  },
  {
   "cell_type": "code",
   "execution_count": null,
   "metadata": {},
   "outputs": [],
   "source": []
  },
  {
   "cell_type": "code",
   "execution_count": null,
   "metadata": {},
   "outputs": [],
   "source": []
  },
  {
   "cell_type": "code",
   "execution_count": null,
   "metadata": {},
   "outputs": [],
   "source": []
  },
  {
   "cell_type": "code",
   "execution_count": null,
   "metadata": {},
   "outputs": [],
   "source": []
  },
  {
   "cell_type": "code",
   "execution_count": null,
   "metadata": {},
   "outputs": [],
   "source": []
  },
  {
   "cell_type": "code",
   "execution_count": null,
   "metadata": {},
   "outputs": [],
   "source": []
  },
  {
   "cell_type": "code",
   "execution_count": null,
   "metadata": {},
   "outputs": [],
   "source": []
  },
  {
   "cell_type": "code",
   "execution_count": null,
   "metadata": {},
   "outputs": [],
   "source": []
  },
  {
   "cell_type": "code",
   "execution_count": null,
   "metadata": {},
   "outputs": [],
   "source": []
  },
  {
   "cell_type": "code",
   "execution_count": null,
   "metadata": {},
   "outputs": [],
   "source": []
  },
  {
   "cell_type": "code",
   "execution_count": null,
   "metadata": {},
   "outputs": [],
   "source": [
    "clf.score(X_test, y_test)"
   ]
  },
  {
   "cell_type": "code",
   "execution_count": null,
   "metadata": {},
   "outputs": [],
   "source": [
    "pd.crosstab(y_test, clf.predict(X_test))"
   ]
  },
  {
   "cell_type": "code",
   "execution_count": null,
   "metadata": {},
   "outputs": [],
   "source": [
    "scores=cross_val_score( clf, X, y,cv=5,  scoring=\"recall_macro\")"
   ]
  },
  {
   "cell_type": "code",
   "execution_count": null,
   "metadata": {},
   "outputs": [],
   "source": [
    "print(f'CV Accuracy   {np.mean(scores):.3f} +/-  {np.std(scores)}')"
   ]
  },
  {
   "cell_type": "code",
   "execution_count": null,
   "metadata": {},
   "outputs": [],
   "source": [
    "X_new=X.sample(5, random_state=42)\n",
    "clf.fit(X, y )"
   ]
  },
  {
   "cell_type": "code",
   "execution_count": null,
   "metadata": {},
   "outputs": [],
   "source": [
    "y_pred=clf.predict(X_test)\n",
    "y_pred"
   ]
  },
  {
   "cell_type": "code",
   "execution_count": null,
   "metadata": {},
   "outputs": [],
   "source": [
    "cl=[\"0-60\",\"60-70\" \"70-80\", \"80-90\",\"90-100\"]\n",
    "np.array([ cl[x] for x in y_pred])"
   ]
  },
  {
   "cell_type": "code",
   "execution_count": null,
   "metadata": {},
   "outputs": [],
   "source": [
    "from sklearn.metrics import confusion_matrix\n",
    "cfm= pd.DataFrame(confusion_matrix(y_test, y_pred))\n",
    "cfm.index.name=\"Actual\"\n",
    "cfm.columns.name=\"Predicted\""
   ]
  },
  {
   "cell_type": "code",
   "execution_count": null,
   "metadata": {
    "scrolled": true
   },
   "outputs": [],
   "source": [
    "import seaborn  as sns\n",
    "import matplotlib.pyplot as plt\n",
    "%matplotlib  inline\n",
    "plt.figure(figsize=(10,7))\n",
    "sns.heatmap(cfm , cmap=\"Blues\", annot=True, annot_kws={\"size\":16}, fmt=\"g\")"
   ]
  },
  {
   "cell_type": "code",
   "execution_count": null,
   "metadata": {},
   "outputs": [],
   "source": [
    "from sklearn.model_selection import learning_curve"
   ]
  },
  {
   "cell_type": "code",
   "execution_count": null,
   "metadata": {},
   "outputs": [],
   "source": [
    "train_sizes, train_scores, test_scores= learning_curve(pipe, X_train, y_train, train_sizes=np.linspace(0.1, 1, 10), \n",
    "                                                      cv=10, n_jobs=-1)"
   ]
  },
  {
   "cell_type": "code",
   "execution_count": null,
   "metadata": {},
   "outputs": [],
   "source": [
    "plt.plot(train_sizes, np.mean(train_scores, axis=1), color=\"blue\", marker='o', markersize=5, label='Training accuracy')\n",
    "plt.fill_between(train_sizes, np.mean(train_scores, axis=1) +np.std(train_scores, axis=1),np.mean(train_scores, axis=1)-  np.std(train_scores,axis=1), alpha=0.15, color=\"green\")\n",
    "\n",
    "\n",
    "plt.plot(train_sizes, np.mean(test_scores, axis=1), color=\"green\", marker=\"s\", linestyle=\"--\", markersize=5, label='Validation accuracy')\n",
    "plt.fill_between(train_sizes, np.mean(test_scores, axis=1) +np.std(test_scores, axis=1),np.mean(test_scores, axis=1)-  np.std(test_scores,axis=1), alpha=.15, color=\"green\")\n",
    "\n",
    "plt.grid()\n",
    "plt.xlabel('Number of training examples')\n",
    "plt.ylabel(\"Accuracy\")\n",
    "plt.legend(loc=\"best\")\n",
    "# plt.ylim([0.8, 1.03])\n",
    "plt.show()"
   ]
  },
  {
   "cell_type": "code",
   "execution_count": null,
   "metadata": {},
   "outputs": [],
   "source": [
    "from sklearn.model_selection import validation_curve\n",
    "from sklearn.linear_model import LogisticRegression\n",
    "param_range=[0.001, 0.01, 0.1,0.2, 0.6, 0.8,  1]\n",
    "train_scores, test_scores= validation_curve(pipe, X_train, y_train, param_name='xgbclassifier__learning_rate',\n",
    "                                            param_range=param_range, cv=10)\n",
    "                                                   \n",
    "\n",
    "plt.plot(param_range, np.mean(train_scores, axis=1), color=\"blue\", marker='o', markersize=5, label='Training accuracy')\n",
    "plt.fill_between(param_range, np.mean(train_scores, axis=1) +np.std(train_scores, axis=1),np.mean(train_scores, axis=1)-  np.std(train_scores,axis=1), alpha=0.15, color=\"green\")\n",
    "\n",
    "\n",
    "plt.plot(param_range, np.mean(test_scores, axis=1), color=\"green\", marker=\"s\", linestyle=\"--\", markersize=5, label='Validation accuracy')\n",
    "plt.fill_between(param_range, np.mean(test_scores, axis=1) +np.std(test_scores, axis=1),np.mean(test_scores, axis=1)-  np.std(test_scores,axis=1), alpha=.15, color=\"green\")\n",
    "\n",
    "plt.grid()\n",
    "plt.xscale('log')\n",
    "plt.ylimit=([0.8, 1])\n",
    "plt.show()"
   ]
  },
  {
   "cell_type": "code",
   "execution_count": null,
   "metadata": {},
   "outputs": [],
   "source": [
    "x = np.linspace(0, 10, 20)\n",
    "y=x**3"
   ]
  },
  {
   "cell_type": "code",
   "execution_count": null,
   "metadata": {},
   "outputs": [],
   "source": [
    "plt.figure(figsize=(8,8))\n",
    "plt.plot(x,y, \"--r\", label=\"Cubed\")\n",
    "plt.plot(x, x**2, \"D-k\", label=\"squared\")\n",
    "plt.legend()"
   ]
  },
  {
   "cell_type": "code",
   "execution_count": null,
   "metadata": {},
   "outputs": [],
   "source": [
    "x = ['Shirts', 'Pants','Shorts','Shoes']\n",
    "y = [1000, 1200, 800, 1800]\n",
    "plt.title('Sales Revenue by Item Type')\n",
    "plt.xlabel('Item Type')\n",
    "plt.ylabel('Sales Revenue ($)')\n",
    "plt.bar(x, y)"
   ]
  },
  {
   "cell_type": "code",
   "execution_count": null,
   "metadata": {},
   "outputs": [],
   "source": [
    "y = np.random.normal(loc=0, scale=0.1, size=100)\n",
    "plt.boxplot(y)\n",
    "plt.show()"
   ]
  },
  {
   "cell_type": "code",
   "execution_count": null,
   "metadata": {},
   "outputs": [],
   "source": [
    "from scipy.stats import shapiro\n",
    "shap_w, shap_p = shapiro(y)\n",
    "shap_w, shap_p"
   ]
  },
  {
   "cell_type": "code",
   "execution_count": null,
   "metadata": {},
   "outputs": [],
   "source": [
    "from scipy.stats import zscore\n",
    "y_z_scores = zscore(y)\n",
    "y_z_scores"
   ]
  },
  {
   "cell_type": "code",
   "execution_count": null,
   "metadata": {},
   "outputs": [],
   "source": []
  },
  {
   "cell_type": "code",
   "execution_count": null,
   "metadata": {},
   "outputs": [],
   "source": []
  },
  {
   "cell_type": "code",
   "execution_count": 54,
   "metadata": {},
   "outputs": [],
   "source": [
    "def plotGraph(x, y1, y2, y1std, y2std, scl, lbl):    \n",
    "    plt.plot(x, \n",
    "             y1, \n",
    "                     color=\"blue\", marker=\"o\", markersize=5, label=\"Training Accuracy\")\n",
    "    plt.fill_between(\n",
    "        x, \n",
    "        y1 +y1std, \n",
    "        y1-y1std, \n",
    "                        color=\"blue\", alpha=0.15)\n",
    "\n",
    "    plt.plot(x, \n",
    "             y2, \n",
    "                     color=\"green\", marker=\"s\",linestyle=\"--\", markersize=5, label=\"Validation Accuracy\")\n",
    "    plt.fill_between(\n",
    "                    x, \n",
    "                    y2 +y2std, \n",
    "                    y2-y2std, \n",
    "                        color=\"green\", alpha=0.15)\n",
    "\n",
    "    plt.grid()\n",
    "    plt.xlabel(lbl) #\" Number of Training Example\")\n",
    "    plt.xscale(scl)\n",
    "    plt.ylabel(\"Accuracy \")\n",
    "    plt.legend(loc=\"lower right\")\n",
    "    plt.ylim([0.8, 1.01])\n",
    "    plt.show()"
   ]
  },
  {
   "cell_type": "markdown",
   "metadata": {},
   "source": [
    "# linear Curve. For LInearRegresssion`"
   ]
  },
  {
   "cell_type": "code",
   "execution_count": null,
   "metadata": {},
   "outputs": [],
   "source": [
    "from sklearn.model_selection import learning_curve\n",
    "\n",
    "train_size, train_score, test_score =learning_curve(estimator=pipe, \n",
    "                                                    X=X_train, \n",
    "                                                    y=y_train,\n",
    "                                                    train_sizes=np.linspace(0.1, 1, 10 ),\n",
    "                                                    \n",
    "                                                    cv=10 , n_jobs=1)"
   ]
  },
  {
   "cell_type": "code",
   "execution_count": null,
   "metadata": {},
   "outputs": [],
   "source": [
    "train_mean=np.mean(train_score, axis=1)\n",
    "train_std= np.std (train_score, axis=1)\n",
    "test_mean= np.mean(test_score,  axis=1)\n",
    "test_std=  np.std (test_score,  axis=1)"
   ]
  },
  {
   "cell_type": "code",
   "execution_count": null,
   "metadata": {},
   "outputs": [],
   "source": [
    "import matplotlib.pyplot as plt\n",
    "plt.figure(figsize=(12, 7))\n",
    "plotGraph(train_size, train_mean, test_mean, \n",
    "          train_std, test_std,\"linear\", \"Number of Training Example\")"
   ]
  },
  {
   "cell_type": "code",
   "execution_count": null,
   "metadata": {},
   "outputs": [],
   "source": []
  }
 ],
 "metadata": {
  "kernelspec": {
   "display_name": "Python 3",
   "language": "python",
   "name": "python3"
  },
  "language_info": {
   "codemirror_mode": {
    "name": "ipython",
    "version": 3
   },
   "file_extension": ".py",
   "mimetype": "text/x-python",
   "name": "python",
   "nbconvert_exporter": "python",
   "pygments_lexer": "ipython3",
   "version": "3.8.2"
  }
 },
 "nbformat": 4,
 "nbformat_minor": 2
}
